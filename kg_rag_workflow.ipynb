{
 "cells": [
  {
   "cell_type": "code",
   "execution_count": 16,
   "metadata": {},
   "outputs": [],
   "source": [
    "import nest_asyncio\n",
    "\n",
    "nest_asyncio.apply()"
   ]
  },
  {
   "cell_type": "code",
   "execution_count": 17,
   "metadata": {},
   "outputs": [],
   "source": [
    "# !pip install -U llama-index"
   ]
  },
  {
   "cell_type": "code",
   "execution_count": 18,
   "metadata": {},
   "outputs": [],
   "source": [
    "from utils import load_env\n",
    "\n",
    "load_env()"
   ]
  },
  {
   "cell_type": "markdown",
   "metadata": {},
   "source": [
    "# Designing the Workflow TBD\n",
    "\n",
    "RAG + Reranking consists of some clearly defined steps\n",
    "\n",
    "Indexing data, creating an index\n",
    "Using that index + a query to retrieve relevant text chunks\n",
    "Rerank the text retrieved text chunks using the original query\n",
    "Synthesizing a final response\n",
    "With this in mind, we can create events and workflow steps to follow this process!"
   ]
  },
  {
   "cell_type": "code",
   "execution_count": 19,
   "metadata": {},
   "outputs": [],
   "source": [
    "# TBD\n",
    "from llama_index.core.workflow import Event\n",
    "from llama_index.core.schema import NodeWithScore\n",
    "\n",
    "\n",
    "class RetrieverEvent(Event):\n",
    "    \"\"\"Result of running retrieval\"\"\"\n",
    "\n",
    "    nodes: list[NodeWithScore]\n",
    "\n",
    "\n",
    "class RerankEvent(Event):\n",
    "    \"\"\"Result of running reranking on retrieved nodes\"\"\"\n",
    "\n",
    "    nodes: list[NodeWithScore]"
   ]
  },
  {
   "cell_type": "markdown",
   "metadata": {},
   "source": [
    "# Workflow components"
   ]
  },
  {
   "cell_type": "markdown",
   "metadata": {},
   "source": [
    "## local neo4j docker instance\n",
    "\n",
    "\n",
    "for mac or linux, use below\n",
    "```bash\n",
    "docker run \\\n",
    "    -p 7474:7474 -p 7687:7687 \\\n",
    "    -v $PWD/data:/data -v $PWD/plugins:/plugins \\\n",
    "    --name neo4j-apoc \\\n",
    "    -e NEO4J_apoc_export_file_enabled=true \\\n",
    "    -e NEO4J_apoc_import_file_enabled=true \\\n",
    "    -e NEO4J_apoc_import_file_use__neo4j__config=true \\\n",
    "    -e NEO4J_PLUGINS=\\[\\\"apoc\\\"\\] \\\n",
    "    neo4j:latest\n",
    "```\n",
    "\n",
    "for windows on anaconda prompt, run below\n",
    "\n",
    "```bash\n",
    "docker run ^\n",
    "   -p 7474:7474 -p 7687:7687 ^\n",
    "   -v \"%CD%/data:/data\" -v \"%CD%/plugins:/plugins\" ^\n",
    "   --name neo4j-apoc ^\n",
    "   -e NEO4J_apoc_export_file_enabled=true ^\n",
    "   -e NEO4J_apoc_import_file_enabled=true ^\n",
    "   -e NEO4J_apoc_import_file_use__neo4j__config=true ^\n",
    "   -e NEO4J_PLUGINS=\"[\\\"apoc\\\"]\" ^\n",
    "   neo4j:latest\n",
    "```\n",
    "Go see your instance at http://localhost:7474/browser/. Default login and password is 'neo4j'.\n",
    "\n",
    "You will be asked to change the password, change it to 'password'.\n"
   ]
  },
  {
   "cell_type": "code",
   "execution_count": 20,
   "metadata": {},
   "outputs": [
    {
     "name": "stderr",
     "output_type": "stream",
     "text": [
      "Received notification from DBMS server: {severity: WARNING} {code: Neo.ClientNotification.Statement.FeatureDeprecationWarning} {category: DEPRECATION} {title: This feature is deprecated and will be removed in future versions.} {description: The procedure has a deprecated field. ('config' used by 'apoc.meta.graphSample' is deprecated.)} {position: line: 1, column: 1, offset: 0} for query: \"CALL apoc.meta.graphSample() YIELD nodes, relationships RETURN nodes, [rel in relationships | {name:apoc.any.property(rel, 'type'), count: apoc.any.property(rel, 'count')}] AS relationships\"\n"
     ]
    }
   ],
   "source": [
    "from llama_index.graph_stores.neo4j import Neo4jPGStore\n",
    "\n",
    "username = \"neo4j\"\n",
    "password = \"password\"\n",
    "url = \"bolt://localhost:7687\"\n",
    "\n",
    "# connect to the graph store\n",
    "graph_store = Neo4jPGStore(username=username, password=password, url=url)"
   ]
  },
  {
   "cell_type": "code",
   "execution_count": 21,
   "metadata": {},
   "outputs": [],
   "source": [
    "from llama_index.core.workflow import Event\n",
    "from llama_index.core.schema import NodeWithScore\n",
    "\n",
    "\n",
    "class RetrieverEvent(Event):\n",
    "    \"\"\"Result of running retrieval\"\"\"\n",
    "\n",
    "    nodes: list[NodeWithScore]\n",
    "\n",
    "\n",
    "class RerankEvent(Event):\n",
    "    \"\"\"Result of running reranking on retrieved nodes\"\"\"\n",
    "\n",
    "    nodes: list[NodeWithScore]"
   ]
  },
  {
   "cell_type": "markdown",
   "metadata": {},
   "source": [
    "## The Workflow Itself\n",
    "With our events defined, we can construct our workflow and steps\n",
    "\n",
    "Note that the workflow automatically validates itself using type annotations, so the type annotations on our steps are very helpful"
   ]
  },
  {
   "cell_type": "code",
   "execution_count": 22,
   "metadata": {},
   "outputs": [],
   "source": [
    "from llama_index.core import SimpleDirectoryReader\n",
    "from llama_index.core.response_synthesizers import CompactAndRefine\n",
    "from llama_index.core.postprocessor.llm_rerank import LLMRerank\n",
    "from llama_index.core.workflow import (\n",
    "    Context,\n",
    "    Workflow,\n",
    "    StartEvent,\n",
    "    StopEvent,\n",
    "    step,\n",
    ")\n",
    "\n",
    "from llama_index.core import Document, PropertyGraphIndex\n",
    "from llama_index.core.indices.property_graph import DynamicLLMPathExtractor\n",
    "from llama_index.core import Settings\n",
    "\n",
    "from llama_index.llms.openai import OpenAI\n",
    "from llama_index.embeddings.openai import OpenAIEmbedding\n",
    "\n",
    "\n",
    "\n",
    "class GraphRAGWorkflow(Workflow):\n",
    "    @step(pass_context=True)\n",
    "    async def ingest_docs(self, ctx: Context, ev: StartEvent) -> StopEvent | None:\n",
    "        \"\"\"Ingest the documents\"\"\"\n",
    "        dirpath = ev.get(\"dirpath\")\n",
    "        if not dirpath:\n",
    "            return None\n",
    "        \n",
    "        docs = SimpleDirectoryReader(dirpath).load_data()\n",
    "\n",
    "        # store the docs in the global context\n",
    "        ctx.data[\"docs\"] = docs\n",
    "\n",
    "        print(f\"ingested {len(docs)} docs\")\n",
    "        return StopEvent(result=docs)\n",
    "        # return StopEvent(result=f\"ingested {len(docs)} docs\")\n",
    "\n",
    "\n",
    "    @step(pass_context=True)\n",
    "    async def index_docs(self, ctx: Context, ev: StartEvent) -> StopEvent | None:\n",
    "        \"\"\"Index the documents dynamically in the graph store\"\"\"\n",
    "        max_triplets = ev.get(\"max_triplets\")\n",
    "        if not max_triplets:\n",
    "            return None\n",
    "\n",
    "        allowed_entity_types = ev.get(\"allowed_entity_types\", None)\n",
    "        allowed_relation_types = ev.get(\"allowed_relation_types\", None)\n",
    "        allowed_relation_props = ev.get(\"allowed_relation_props\", [])\n",
    "        allowed_entity_props = ev.get(\"allowed_entity_props\", [])\n",
    "\n",
    "        llm = OpenAI(temperature=0.0, model=\"gpt-3.5-turbo\")\n",
    "        embed_model = OpenAIEmbedding(model=\"text-embedding-3-small\")\n",
    "\n",
    "        Settings.llm = llm\n",
    "        Settings.chunk_size = 2048\n",
    "        Settings.chunk_overlap = 20\n",
    "        \n",
    "        docs: List[Document] = ctx.data.get(\"docs\", [])\n",
    "        if docs is None:\n",
    "            print(\"No documents to index, ingest some documents first.\")\n",
    "            return None\n",
    "\n",
    "        kg_extractor = DynamicLLMPathExtractor(\n",
    "            llm=llm,\n",
    "            max_triplets_per_chunk=max_triplets,\n",
    "            num_workers=4,\n",
    "            allowed_entity_types=allowed_entity_types,\n",
    "            allowed_relation_types=allowed_relation_types,\n",
    "            allowed_relation_props=allowed_relation_props,\n",
    "            allowed_entity_props=allowed_entity_props,\n",
    "        )\n",
    "\n",
    "        index = PropertyGraphIndex.from_documents(\n",
    "            docs,\n",
    "            llm=llm,\n",
    "            embed_model=embed_model,\n",
    "            property_graph_store=graph_store,\n",
    "            kg_extractors=[kg_extractor],\n",
    "            show_progress=True,\n",
    "        )\n",
    "\n",
    "        ctx.data[\"index\"] = index\n",
    "\n",
    "        return StopEvent(result=index)\n",
    "\n",
    "\n",
    "    @step(pass_context=True)\n",
    "    async def retrieve(self, ctx: Context, ev: StartEvent) -> RetrieverEvent | None:\n",
    "        \"Entry point for RAG, triggered by a StartEvent with `query`.\"\n",
    "        query = ev.get(\"query\")\n",
    "        if not query:\n",
    "            return None\n",
    "\n",
    "        print(f\"Query the graph database with: {query}\")\n",
    "\n",
    "        # store the query in the global context\n",
    "        ctx.data[\"query\"] = query\n",
    "\n",
    "        # get the index from the global context\n",
    "        index = ctx.data.get(\"index\")\n",
    "        if index is None:\n",
    "            print(\"Index is empty, load some documents before querying!\")\n",
    "            return None\n",
    "\n",
    "        retriever = index.as_retriever(similarity_top_k=10)\n",
    "        nodes = retriever.retrieve(query)\n",
    "        print(f\"Retrieved {len(nodes)} nodes.\")\n",
    "        return RetrieverEvent(nodes=nodes)\n",
    "\n",
    "\n",
    "    @step(pass_context=True)\n",
    "    async def rerank(self, ctx: Context, ev: RetrieverEvent) -> RerankEvent:\n",
    "            \"\"\"Rerank the nodes based on the query\"\"\"\n",
    "            ranker = LLMRerank(\n",
    "                choice_batch_size=5, top_n=3, llm=OpenAI(model=\"gpt-4o-mini\")\n",
    "            )\n",
    "            print(ctx.data.get(\"query\"), flush=True)\n",
    "            new_nodes = ranker.postprocess_nodes(\n",
    "                ev.nodes, query_str=ctx.data.get(\"query\")\n",
    "            )\n",
    "            print(f\"Reranked nodes to {len(new_nodes)}\")\n",
    "            return RerankEvent(nodes=new_nodes)\n",
    "\n",
    "\n",
    "    @step(pass_context=True)\n",
    "    async def synthesize(self, ctx: Context, ev: RerankEvent) -> StopEvent:\n",
    "        \"\"\"Return a streaming response using reranked nodes.\"\"\"\n",
    "        llm = OpenAI(model=\"gpt-4o-mini\")\n",
    "        summarizer = CompactAndRefine(llm=llm, streaming=True, verbose=True)\n",
    "        query = ctx.data.get(\"query\")\n",
    "\n",
    "        response = await summarizer.asynthesize(query, nodes=ev.nodes)\n",
    "        return StopEvent(result=response)"
   ]
  },
  {
   "cell_type": "markdown",
   "metadata": {},
   "source": [
    "# Run the workflow"
   ]
  },
  {
   "cell_type": "code",
   "execution_count": 28,
   "metadata": {},
   "outputs": [
    {
     "name": "stderr",
     "output_type": "stream",
     "text": [
      "Ignoring wrong pointing object 14 0 (offset 0)\n",
      "Ignoring wrong pointing object 34 0 (offset 0)\n",
      "Ignoring wrong pointing object 51 0 (offset 0)\n",
      "Ignoring wrong pointing object 67 0 (offset 0)\n",
      "Ignoring wrong pointing object 86 0 (offset 0)\n",
      "Ignoring wrong pointing object 108 0 (offset 0)\n",
      "Ignoring wrong pointing object 127 0 (offset 0)\n",
      "Ignoring wrong pointing object 140 0 (offset 0)\n",
      "Ignoring wrong pointing object 180 0 (offset 0)\n"
     ]
    },
    {
     "name": "stdout",
     "output_type": "stream",
     "text": [
      "Running step index_docs\n",
      "Step index_docs produced no event\n",
      "Running step ingest_docs\n",
      "ingested 46 docs\n",
      "Step ingest_docs produced event StopEvent\n",
      "Running step retrieve\n",
      "Step retrieve produced no event\n"
     ]
    }
   ],
   "source": [
    "# Ingest the documents\n",
    "w = GraphRAGWorkflow(timeout=600, verbose=True)\n",
    "docs = await w.run(dirpath=\"data/kg_rag_workflow/\")"
   ]
  },
  {
   "cell_type": "code",
   "execution_count": 29,
   "metadata": {},
   "outputs": [
    {
     "name": "stdout",
     "output_type": "stream",
     "text": [
      "docs is type <class 'llama_index.core.schema.Document'>\n",
      "--------------------------------------------------\n",
      "Doc ID: 753e7dff-e7c1-43c6-895b-b71d062d4a35\n",
      "Text: 139 Archivio Italiano di Urologia e Andrologia 2019; 91, 3REVIEW\n",
      "Nutraceutical treatment and prevention  of benign prostatic\n",
      "hyperplasia and prostate cancer  Arrigo F.G. Cicero1, Olta\n",
      "Allkanjari2, Gian Maria Busetto3, Tommaso Cai4, Gaetano Larganà5,\n",
      "Vittorio Magri6, Gianpaolo Perletti7, Francesco Saverio Robustelli\n",
      "Della Cuna8, Giorgio Ivan Russ...\n",
      "--------------------------------------------------\n",
      "Doc ID: 3399ef2a-961b-4ddc-aeac-bd7d10ae9e21\n",
      "Text: Archivio Italiano di Urologia e Andrologia 2019; 91, 3A.F.G.\n",
      "Cicero, O. Allkanjari, G.M. Busetto, et al.\n",
      "140INTRODUCTIONTONUTRACEUTICALPRESCRIPTION (Arrigo F.G. Cicero) During\n",
      "the last years, the pharmaceutical innovation in primary care are\n",
      "dramatically less frequent and will be even more rare in the next\n",
      "future. In this context, pre- clinical...\n"
     ]
    }
   ],
   "source": [
    "# Display the first 2 documents\n",
    "print(f\"docs is type {type(docs[0])}\")\n",
    "for doc in docs[:2]:\n",
    "    print(\"-\" * 50)\n",
    "    print(doc)"
   ]
  },
  {
   "cell_type": "code",
   "execution_count": 30,
   "metadata": {},
   "outputs": [
    {
     "name": "stdout",
     "output_type": "stream",
     "text": [
      "Running step index_docs\n"
     ]
    },
    {
     "name": "stderr",
     "output_type": "stream",
     "text": [
      "Parsing nodes: 100%|██████████| 46/46 [00:00<00:00, 700.58it/s]\n"
     ]
    },
    {
     "name": "stdout",
     "output_type": "stream",
     "text": [
      "Running step ingest_docs\n",
      "Step ingest_docs produced no event\n",
      "Running step retrieve\n",
      "Step retrieve produced no event\n"
     ]
    },
    {
     "name": "stderr",
     "output_type": "stream",
     "text": [
      "Extracting and inferring knowledge graph from text:  95%|█████████▍| 55/58 [03:15<00:10,  3.37s/it]"
     ]
    }
   ],
   "source": [
    "allowed_entity_types=[\"MEDICINAL_PLANT\", \"COMPOUND\", \"SYMPTOM\", \"TREATMENT\", \"DISEASE\", \"STUDY_TYPE\"]\n",
    "allowed_relation_types=[\"TREATS\", \"CONTAINS\", \"ALLEVIATES\", \"STUDIED_IN\", \"SIDE_EFFECT_OF\", \"INTERACTS_WITH\"]\n",
    "allowed_relation_props=[\"efficacy\", \"dosage\"]\n",
    "allowed_entity_props=[\"scientific_name\", \"common_name\", \"description\"]\n",
    "    \n",
    "index = await w.run(\n",
    "    max_triplets=20, \n",
    "    allowed_entity_types=allowed_entity_types, \n",
    "    allowed_relation_types=allowed_relation_types, \n",
    "    allowed_relation_props=allowed_relation_props, \n",
    "    allowed_entity_props=allowed_entity_props, \n",
    "    )"
   ]
  },
  {
   "cell_type": "code",
   "execution_count": null,
   "metadata": {},
   "outputs": [
    {
     "data": {
      "text/plain": [
       "[[EntityNode(label='COMPOUND', embedding=None, properties={'creation_date': '2024-08-03', 'id': 'benign prostatic hyperplasia', 'last_modified_date': '2024-08-03', 'file_size': 575459, 'file_path': '/Users/michaelkoch/github/posts/data/kg_rag_workflow/bph-review-2021.pdf', 'description': 'MTOPS Research Group', 'file_name': 'bph-review-2021.pdf', 'page_label': '32', 'triplet_source_id': '9707b4f1-e9b2-4f7c-854e-3018d5cb8488', 'file_type': 'application/pdf'}, name='doxazosin'),\n",
       "  Relation(label='TREATS', source_id='doxazosin', target_id='benign prostatic hyperplasia', properties={}),\n",
       "  EntityNode(label='DISEASE', embedding=None, properties={'file_size': 575459, 'file_path': '/Users/michaelkoch/github/posts/data/kg_rag_workflow/bph-review-2021.pdf', 'file_name': 'bph-review-2021.pdf', 'file_type': 'application/pdf', 'creation_date': '2024-08-03', 'id': 'doxazosin', 'Pharmacological Effect': 'α1-adrenoceptor antagonist', 'last_modified_date': '2024-08-03', 'description': 'benign prostatic hyperplasia treatment', 'page_label': '3', 'triplet_source_id': 'cf92f1e2-d879-4506-bb86-6486aafcacd3'}, name='benign prostatic hyperplasia')],\n",
       " [EntityNode(label='COMPOUND', embedding=None, properties={'creation_date': '2024-08-03', 'id': 'benign prostatic hyperplasia', 'last_modified_date': '2024-08-03', 'file_size': 575459, 'file_path': '/Users/michaelkoch/github/posts/data/kg_rag_workflow/bph-review-2021.pdf', 'description': 'MTOPS Research Group', 'file_name': 'bph-review-2021.pdf', 'page_label': '32', 'triplet_source_id': '9707b4f1-e9b2-4f7c-854e-3018d5cb8488', 'file_type': 'application/pdf'}, name='Cernilton'),\n",
       "  Relation(label='TREATS', source_id='Cernilton', target_id='benign prostatic hyperplasia', properties={}),\n",
       "  EntityNode(label='DISEASE', embedding=None, properties={'file_size': 575459, 'file_path': '/Users/michaelkoch/github/posts/data/kg_rag_workflow/bph-review-2021.pdf', 'file_name': 'bph-review-2021.pdf', 'file_type': 'application/pdf', 'creation_date': '2024-08-03', 'id': 'Cernilton', 'last_modified_date': '2024-08-03', 'therapeutic efficacy': 'high', 'description': 'pollen extract', 'page_label': '32', 'triplet_source_id': '9707b4f1-e9b2-4f7c-854e-3018d5cb8488'}, name='benign prostatic hyperplasia')],\n",
       " [EntityNode(label='COMPOUND', embedding=None, properties={'creation_date': '2024-08-03', 'id': 'benign prostatic hyperplasia', 'last_modified_date': '2024-08-03', 'file_size': 575459, 'file_path': '/Users/michaelkoch/github/posts/data/kg_rag_workflow/bph-review-2021.pdf', 'description': 'MTOPS Research Group', 'file_name': 'bph-review-2021.pdf', 'page_label': '32', 'triplet_source_id': '9707b4f1-e9b2-4f7c-854e-3018d5cb8488', 'file_type': 'application/pdf'}, name='epigallocatechin-3-gallate'),\n",
       "  Relation(label='PROTECTS', source_id='epigallocatechin-3-gallate', target_id='benign prostatic hyperplasia', properties={}),\n",
       "  EntityNode(label='DISEASE', embedding=None, properties={'creation_date': '2024-08-03', 'id': 'epigallocatechin-3-gallate', 'last_modified_date': '2024-08-02', 'file_size': 1558509, 'file_path': '/Users/michaelkoch/github/posts/data/kg_rag_workflow/bph-review-2019.pdf', 'file_name': 'bph-review-2019.pdf', 'scientific_name': 'epigallocatechin-3-gallate', 'page_label': '13', 'triplet_source_id': 'e704a8c4-1b7d-4215-ac2a-08287c92a2d8', 'file_type': 'application/pdf'}, name='benign prostatic hyperplasia')],\n",
       " [EntityNode(label='COMPOUND', embedding=None, properties={'creation_date': '2024-08-03', 'id': 'benign prostatic hyperplasia', 'last_modified_date': '2024-08-03', 'file_size': 575459, 'file_path': '/Users/michaelkoch/github/posts/data/kg_rag_workflow/bph-review-2021.pdf', 'description': 'MTOPS Research Group', 'file_name': 'bph-review-2021.pdf', 'page_label': '32', 'triplet_source_id': '9707b4f1-e9b2-4f7c-854e-3018d5cb8488', 'file_type': 'application/pdf'}, name='flavocoxid'),\n",
       "  Relation(label='AFFECTS', source_id='flavocoxid', target_id='benign prostatic hyperplasia', properties={}),\n",
       "  EntityNode(label='DISEASE', embedding=None, properties={'creation_date': '2024-08-03', 'id': 'flavocoxid', 'last_modified_date': '2024-08-02', 'file_size': 1558509, 'file_path': '/Users/michaelkoch/github/posts/data/kg_rag_workflow/bph-review-2019.pdf', 'file_name': 'bph-review-2019.pdf', 'page_label': '13', 'triplet_source_id': 'e704a8c4-1b7d-4215-ac2a-08287c92a2d8', 'file_type': 'application/pdf'}, name='benign prostatic hyperplasia')],\n",
       " [EntityNode(label='COMPOUND', embedding=None, properties={'creation_date': '2024-08-03', 'id': 'benign prostatic hyperplasia', 'last_modified_date': '2024-08-03', 'file_size': 575459, 'file_path': '/Users/michaelkoch/github/posts/data/kg_rag_workflow/bph-review-2021.pdf', 'description': 'MTOPS Research Group', 'file_name': 'bph-review-2021.pdf', 'page_label': '32', 'triplet_source_id': '9707b4f1-e9b2-4f7c-854e-3018d5cb8488', 'file_type': 'application/pdf'}, name='quercetin'),\n",
       "  Relation(label='TREATS', source_id='quercetin', target_id='benign prostatic hyperplasia', properties={}),\n",
       "  EntityNode(label='DISEASE', embedding=None, properties={'creation_date': '2024-08-03', 'id': 'quercetin', 'last_modified_date': '2024-08-02', 'file_size': 1558509, 'file_path': '/Users/michaelkoch/github/posts/data/kg_rag_workflow/bph-review-2019.pdf', 'file_name': 'bph-review-2019.pdf', 'page_label': '13', 'triplet_source_id': 'e704a8c4-1b7d-4215-ac2a-08287c92a2d8', 'file_type': 'application/pdf'}, name='benign prostatic hyperplasia')]]"
      ]
     },
     "execution_count": 26,
     "metadata": {},
     "output_type": "execute_result"
    }
   ],
   "source": [
    "index.property_graph_store.get_triplets(\n",
    "    entity_names=[\"saw palmetto\", \"benign prostatic hyperplasia\"]\n",
    ")[:5]"
   ]
  },
  {
   "cell_type": "code",
   "execution_count": null,
   "metadata": {},
   "outputs": [
    {
     "name": "stdout",
     "output_type": "stream",
     "text": [
      "Running step index_docs\n",
      "Step index_docs produced no event\n",
      "Running step ingest_docs\n",
      "Step ingest_docs produced no event\n",
      "Running step retrieve\n",
      "Query the graph database with: What are the side effects of treating benign prostatic hyperplasia with saw palmetto?\n",
      "Retrieved 9 nodes.\n",
      "Step retrieve produced event RetrieverEvent\n",
      "Running step rerank\n",
      "What are the side effects of treating benign prostatic hyperplasia with saw palmetto?\n",
      "Reranked nodes to 3\n",
      "Step rerank produced event RerankEvent\n",
      "Running step synthesize\n",
      "Step synthesize produced event StopEvent\n",
      "The provided information does not specify the side effects of treating benign prostatic hyperplasia with saw palmetto. For detailed information on potential side effects, it would be advisable to consult medical literature or a healthcare professional."
     ]
    }
   ],
   "source": [
    "# run a query \n",
    "query = \"What are the side effects of treating benign prostatic hyperplasia with saw palmetto?\"\n",
    "result = await w.run(query=query)\n",
    "async for chunk in result.async_response_gen():\n",
    "    print(chunk, end=\"\", flush=True)"
   ]
  },
  {
   "cell_type": "code",
   "execution_count": null,
   "metadata": {},
   "outputs": [],
   "source": [
    "# # Set up global configurations\n",
    "# llm = OpenAI(temperature=0.0, model=\"gpt-3.5-turbo\")\n",
    "# embed_model = OpenAIEmbedding(model=\"text-embedding-3-small\")\n",
    "\n",
    "# Settings.llm = llm\n",
    "# Settings.chunk_size = 2048\n",
    "# Settings.chunk_overlap = 20\n",
    "\n",
    "# allowed_entity_types = [\"MEDICINAL_PLANT\", \"COMPOUND\", \"SYMPTOM\", \"TREATMENT\", \"DISEASE\", \"STUDY_TYPE\"]\n",
    "# allowed_relation_types= [\"TREATS\", \"CONTAINS\", \"ALLEVIATES\", \"STUDIED_IN\", \"SIDE_EFFECT_OF\", \"INTERACTS_WITH\"]\n",
    "# allowed_relation_props= [\"efficacy\", \"dosage\"]\n",
    "# allowed_entity_props= [\"scientific_name\", \"common_name\", \"description\"]\n",
    "\n",
    "# kg_extractor = DynamicLLMPathExtractor(\n",
    "#     llm=llm,\n",
    "#     max_triplets_per_chunk=20,\n",
    "#     num_workers=4,\n",
    "#     allowed_entity_types=allowed_entity_types,\n",
    "#     allowed_relation_types=allowed_relation_types,\n",
    "#     allowed_relation_props=allowed_relation_props,\n",
    "#     allowed_entity_props=allowed_entity_props,\n",
    "# )\n",
    "\n",
    "# index = PropertyGraphIndex.from_documents(\n",
    "#     [document],\n",
    "#     llm=llm,\n",
    "#     embed_model=embed_model,\n",
    "#     property_graph_store=graph_store,\n",
    "#     kg_extractors=[kg_extractor],\n",
    "#     show_progress=True,\n",
    "# )"
   ]
  },
  {
   "cell_type": "code",
   "execution_count": null,
   "metadata": {},
   "outputs": [
    {
     "data": {
      "text/plain": [
       "AgentChatResponse(response='The side effects of treating benign prostatic hyperplasia with saw palmetto may include gastrointestinal symptoms such as stomach discomfort, nausea, vomiting, and diarrhea. There are also rare reports of headaches, dizziness, and mild insomnia associated with the use of saw palmetto for BPH treatment.', sources=[ToolOutput(content='The side effects of treating benign prostatic hyperplasia with saw palmetto include potential gastrointestinal symptoms such as stomach discomfort, nausea, vomiting, and diarrhea. Additionally, there may be rare reports of headaches, dizziness, and mild insomnia associated with the use of saw palmetto for BPH treatment.', tool_name='query_engine_tool', raw_input={'input': 'Side effects of treating benign prostatic hyperplasia with saw palmetto'}, raw_output=Response(response='The side effects of treating benign prostatic hyperplasia with saw palmetto include potential gastrointestinal symptoms such as stomach discomfort, nausea, vomiting, and diarrhea. Additionally, there may be rare reports of headaches, dizziness, and mild insomnia associated with the use of saw palmetto for BPH treatment.', source_nodes=[NodeWithScore(node=TextNode(id_='265cbcca-c3c4-4e82-a444-7a40397b1d3d', embedding=None, metadata={'page_label': '1', 'file_name': 'bph-review-2019.pdf', 'file_path': '/Users/michaelkoch/github/posts/data/kg_rag_workflow/bph-review-2019.pdf', 'file_type': 'application/pdf', 'file_size': 1558509, 'creation_date': '2024-08-03', 'last_modified_date': '2024-08-02'}, excluded_embed_metadata_keys=['file_name', 'file_type', 'file_size', 'creation_date', 'last_modified_date', 'last_accessed_date'], excluded_llm_metadata_keys=['file_name', 'file_type', 'file_size', 'creation_date', 'last_modified_date', 'last_accessed_date'], relationships={<NodeRelationship.SOURCE: '1'>: RelatedNodeInfo(node_id='70989c0c-b301-4992-b54c-2ee47e87daab', node_type=<ObjectType.DOCUMENT: '4'>, metadata={'page_label': '1', 'file_name': 'bph-review-2019.pdf', 'file_path': '/Users/michaelkoch/github/posts/data/kg_rag_workflow/bph-review-2019.pdf', 'file_type': 'application/pdf', 'file_size': 1558509, 'creation_date': '2024-08-03', 'last_modified_date': '2024-08-02'}, hash='403ac5e3314449fa3ef60334749c63d266eee9812523ea5d7e9f8ac0a8ff0a97')}, text=\"Here are some facts extracted from the provided text:\\n\\nnutraceutical treatment ({'creation_date': '2024-08-03', 'last_modified_date': '2024-08-02', 'file_size': 1558509, 'file_path': '/Users/michaelkoch/github/posts/data/kg_rag_workflow/bph-review-2019.pdf', 'description': 'treatment and prevention of benign prostatic hyperplasia and prostate cancer', 'name': 'nutraceutical treatment', 'file_name': 'bph-review-2019.pdf', 'page_label': '1', 'triplet_source_id': '265cbcca-c3c4-4e82-a444-7a40397b1d3d', 'file_type': 'application/pdf'}) -> PREVENTS -> benign prostatic hyperplasia ({'creation_date': '2024-08-03', 'last_modified_date': '2024-08-02', 'file_size': 1558509, 'file_path': '/Users/michaelkoch/github/posts/data/kg_rag_workflow/bph-review-2019.pdf', 'name': 'benign prostatic hyperplasia', 'file_name': 'bph-review-2019.pdf', 'page_label': '1', 'triplet_source_id': '265cbcca-c3c4-4e82-a444-7a40397b1d3d', 'file_type': 'application/pdf'})\\nnutraceutical treatment ({'creation_date': '2024-08-03', 'last_modified_date': '2024-08-02', 'file_size': 1558509, 'file_path': '/Users/michaelkoch/github/posts/data/kg_rag_workflow/bph-review-2019.pdf', 'description': 'treatment and prevention of benign prostatic hyperplasia and prostate cancer', 'name': 'nutraceutical treatment', 'file_name': 'bph-review-2019.pdf', 'page_label': '1', 'triplet_source_id': '265cbcca-c3c4-4e82-a444-7a40397b1d3d', 'file_type': 'application/pdf'}) -> PREVENTS -> prostate cancer ({'creation_date': '2024-08-03', 'last_modified_date': '2024-08-02', 'file_size': 1558509, 'file_path': '/Users/michaelkoch/github/posts/data/kg_rag_workflow/bph-review-2019.pdf', 'name': 'prostate cancer', 'file_name': 'bph-review-2019.pdf', 'page_label': '1', 'triplet_source_id': '265cbcca-c3c4-4e82-a444-7a40397b1d3d', 'file_type': 'application/pdf'})\\nnutraceutical treatment ({'creation_date': '2024-08-03', 'last_modified_date': '2024-08-02', 'file_size': 1558509, 'file_path': '/Users/michaelkoch/github/posts/data/kg_rag_workflow/bph-review-2019.pdf', 'description': 'treatment and prevention of benign prostatic hyperplasia and prostate cancer', 'name': 'nutraceutical treatment', 'file_name': 'bph-review-2019.pdf', 'page_label': '1', 'triplet_source_id': '265cbcca-c3c4-4e82-a444-7a40397b1d3d', 'file_type': 'application/pdf'}) -> CONTAINS -> medicinal plants ({'creation_date': '2024-08-03', 'last_modified_date': '2024-08-02', 'file_size': 1558509, 'file_path': '/Users/michaelkoch/github/posts/data/kg_rag_workflow/bph-review-2019.pdf', 'name': 'medicinal plants', 'file_name': 'bph-review-2019.pdf', 'page_label': '1', 'triplet_source_id': '265cbcca-c3c4-4e82-a444-7a40397b1d3d', 'file_type': 'application/pdf'})\\nnutraceutical treatment ({'creation_date': '2024-08-03', 'last_modified_date': '2024-08-02', 'file_size': 1558509, 'file_path': '/Users/michaelkoch/github/posts/data/kg_rag_workflow/bph-review-2019.pdf', 'description': 'treatment and prevention of benign prostatic hyperplasia and prostate cancer', 'name': 'nutraceutical treatment', 'file_name': 'bph-review-2019.pdf', 'page_label': '1', 'triplet_source_id': '265cbcca-c3c4-4e82-a444-7a40397b1d3d', 'file_type': 'application/pdf'}) -> PREVENTS -> benign prostatic hyperplasia ({'creation_date': '2024-08-03', 'last_modified_date': '2024-08-02', 'file_size': 1558509, 'file_path': '/Users/michaelkoch/github/posts/data/kg_rag_workflow/bph-review-2019.pdf', 'name': 'benign prostatic hyperplasia', 'file_name': 'bph-review-2019.pdf', 'page_label': '1', 'triplet_source_id': '265cbcca-c3c4-4e82-a444-7a40397b1d3d', 'file_type': 'application/pdf'})\\npolyphenols ({'creation_date': '2024-08-03', 'last_modified_date': '2024-08-02', 'file_size': 1558509, 'file_path': '/Users/michaelkoch/github/posts/data/kg_rag_workflow/bph-review-2019.pdf', 'name': 'polyphenols', 'file_name': 'bph-review-2019.pdf', 'page_label': '1', 'triplet_source_id': '265cbcca-c3c4-4e82-a444-7a40397b1d3d', 'file_type': 'application/pdf'}) -> TREATS -> symptoms of BPH ({'creation_date': '2024-08-03', 'last_modified_date': '2024-08-02', 'file_size': 1558509, 'file_path': '/Users/michaelkoch/github/posts/data/kg_rag_workflow/bph-review-2019.pdf', 'name': 'symptoms of BPH', 'file_name': 'bph-review-2019.pdf', 'page_label': '1', 'triplet_source_id': '265cbcca-c3c4-4e82-a444-7a40397b1d3d', 'file_type': 'application/pdf'})\\nSerenoa repens ({'creation_date': '2024-08-03', 'last_modified_date': '2024-08-02', 'file_size': 1558509, 'file_path': '/Users/michaelkoch/github/posts/data/kg_rag_workflow/bph-review-2019.pdf', 'name': 'Serenoa repens', 'file_name': 'bph-review-2019.pdf', 'scientific_name': 'Serenoa repens', 'page_label': '1', 'triplet_source_id': '265cbcca-c3c4-4e82-a444-7a40397b1d3d', 'file_type': 'application/pdf'}) -> TREATS -> symptoms of BPH ({'creation_date': '2024-08-03', 'last_modified_date': '2024-08-02', 'file_size': 1558509, 'file_path': '/Users/michaelkoch/github/posts/data/kg_rag_workflow/bph-review-2019.pdf', 'name': 'symptoms of BPH', 'file_name': 'bph-review-2019.pdf', 'page_label': '1', 'triplet_source_id': '265cbcca-c3c4-4e82-a444-7a40397b1d3d', 'file_type': 'application/pdf'})\\nSerenoa repens ({'creation_date': '2024-08-03', 'last_modified_date': '2024-08-02', 'file_size': 1558509, 'file_path': '/Users/michaelkoch/github/posts/data/kg_rag_workflow/bph-review-2019.pdf', 'name': 'Serenoa repens', 'file_name': 'bph-review-2019.pdf', 'scientific_name': 'Serenoa repens', 'page_label': '1', 'triplet_source_id': '265cbcca-c3c4-4e82-a444-7a40397b1d3d', 'file_type': 'application/pdf'}) -> INTERACTS_WITH -> alpha-blockers and inhibitors of 5-alpha reductase ({'creation_date': '2024-08-03', 'last_modified_date': '2024-08-02', 'file_size': 1558509, 'file_path': '/Users/michaelkoch/github/posts/data/kg_rag_workflow/bph-review-2019.pdf', 'name': 'alpha-blockers and inhibitors of 5-alpha reductase', 'file_name': 'bph-review-2019.pdf', 'page_label': '1', 'triplet_source_id': '265cbcca-c3c4-4e82-a444-7a40397b1d3d', 'file_type': 'application/pdf'})\\n\\n139 Archivio Italiano di Urologia e Andrologia 2019; 91, 3REVIEW\\nNutraceutical treatment and prevention \\nof benign prostatic hyperplasia and prostate cancer \\nArrigo F.G. Cicero1, Olta Allkanjari2, Gian Maria Busetto3, Tommaso Cai4, Gaetano Larganà5,\\nVittorio Magri6, Gianpaolo Perletti7, Francesco Saverio Robustelli Della Cuna8, Giorgio Ivan Russo5,\\nKostantinos Stamatiou9, Alberto Trinchieri10, Annabella Vitalone2\\n1 Dip. di Scienze Mediche e Chirurgiche, Alma Mater Studiorum Università di Bologna, Bologna, Italy;\\n2 Dipartimento di Farmacologia e Fisiologia “V. Erspamer”, Sapienza, Università di Roma, Roma, Italy;\\n3 Department of Urology, Sapienza Università di Roma, Policlinico Umberto I, Roma, Italy;\\n4 Department of Urology, Santa Chiara Regional Hospital, Trento, Italy;\\n5 Urology Department, University of Catania, Catania, Italy;\\n6 Ambulatorio Territoriale di Urologia ed Ecograﬁa Urologica, ASST Nord Milano, Milano, Italy;\\n7 Dipartimento di Biotecnologie e Scienze della Vita, Sezione di Scienze Mediche e Chirurgiche, Università degli Studi \\ndell'Insubria, Varese, Italy, and Faculty of Medicine and Medical Sciences, Ghent University, Ghent Belgium;\\n8 Department of Drugs Sciences, University of Pavia, Pavia, Italy;\\n9 Urology Department, Tzaneion Hospital, Piraeus, Greece;\\n10 CDC Ambrosiana Milano, Italy.\\nDuring the last years, pharmaceutical inno-\\nvations in primary care are dramatically\\nless frequent and will be even more rare in the next future. \\nIn this context, preclinical and clinical research oriented their\\ninterest toward natural compounds efﬁcacy and safety, sup-\\nporting the development of a new “nutraceutical” science.\\nMedicinal plants, in the form of plant parts or extracts of\\nthem, are commonly used for the treatment of prostate dis-\\neases such as benign hypertrophy, prostatitis and chronic\\npelvic pain syndrome.\\nThe pharmacological properties searched for the treatment of\\nprostatic diseases are anti-androgenic, anti-estrogenic, anti-\\nproliferative, antioxidant and anti-inﬂammatory. The most\\nstudied and used medicinal plants are Serenoa repens, Pygeum\\nafricanum and Urtica dioica. Other promising plants are\\nCucurbita pepo, Epilobium spp, Lycopersum esculentum,\\nSecale cereale, Roystonea regia, Vaccinium macrocarpon. In\\nparallel, epidemiological studies demonstrated that diet may\\nplay an important role on incidence and development of pro-\\nstatic diseases. The Mediterranean diet is rich of elements with\\nanti-oxidant properties that act as a protective factor for pro-\\nstatic cancer. Similarly, low intake of animal protein, high\\nintake of fruits and vegetable, lycopene and zinc are a protec-\\ntive factor for benign prostatic hyperplasia (BPH).\\nSerenoa repens in the treatment of symptoms of BPH has been\\ntested either alone or, more frequently, in combination with\\nother medicinal plants, alpha-blockers and inhibitors of 5-\\nalpha reductase (5-ARI). Recent meta-analyses found the effec-\\ntiveness of Serenoa repens similar or inferior of that of ﬁnas-\\nteride and tamsulosin but clearly higher than that of placebo\\nin the treatment of mild and moderate low urinary tract symp-\\ntoms (LUTS), nocturia and discomfort. Clinical trials showed\\npotential synergistic effect of Serenoa repens with other medic-\\ninal plants and drugs. In addition to Serenoa repens, there are\\nmany other medicinal plants for which clinical evidence is still\\ncontroversial. Urtica dioica, Pygeum africanum and Curcubita\\npepo can be considered as an adjunct to the common therapies\\nand their use is supported by studies showing improvement of\\nsymptoms and ﬂowmetric indices. Lycopene and selenium areSummary\\nNo conﬂict of interest declared.DOI:10.4081/aiua.2019.3.139\\nnatural products with antioxidant and anti-inﬂammatory\\naction. The combination of lycopene and selenium with\\nSerenoa repens was able to reduce inﬂammation in histologi-\\ncal prostate sections and to further improve symptom scores\\nand urinary ﬂow in patients with BPH on tamsulosin treat-\\nment. Similar effects could be obtained with the use of other\\ncarotenoids, such as astaxanthin, and/or zinc. Efﬁcacy on\\nsymptoms of patients with BPH of some polyphenols such as\\nquercitin, equol and curcumin have been demonstrated by\\nclinical studies. Pollen extract is a mixture of natural compo-\\nnents able to inhibit several cytokines and prostaglandin and\\nleukotriene synthesis resulting in a potent anti-inﬂammatory\\neffect. Pollen extracts signiﬁcantly improve symptoms, pain,\\nand quality of life in patients affected by chronic pelvic pain\\nsyndrome and chronic prostatitis. Beta-sitosterol is a sterol\\nable to improve urinary symptoms and ﬂow measures, but\\nnot to reduce the size of the prostate gland.\\nPalmitoylethanolamide (PEA) is an endogenous fatty acid\\namide-signaling molecule with anti-inﬂammatory and neuro-\\nprotective effects that can have an interesting role in the\\nmanagement of chronic pelvic pain syndrome and chronic\\nurological pain.\\nFinally, several plant-based products have been subjected to\\npreclinical, in vitro and in vivo, investigations for their poten-\\ntial pharmacological activity against prostate cancer. Some\\nepidemiological studies or clinical trials evaluated the effects\\nof beverages, extracts or food preparations on the risk of\\nprostate cancer. Some plant species deserved more intense\\ninvestigation, such as Camelia sinensis (green or black tea),\\nSolanum lycopersicum (common tomato), Punica granatum\\n(pomegranate), Glycine max (common soy) and Linum usi-\\ntatissimum (linen).\\nKEYWORDS:Medicinal plant; Prostate; Benign prostatic\\n hyperplasia; Prostate cancer; Antiproliferative effect; 5α-reduc-\\ntase; Serenoa repens; Pygeum africanum; Urtica dioica;\\nCucurbita pepo; Lycopene; Selenium; Polyphenols; Pollen\\nextract; Beta-sitosterol; Palmitoylethanolamide.\\nSubmitted 1 July 2019; Accepted 25 July 2019Cicero_Stesura Seveso  30/09/19  18:17  Pagina 139\", mimetype='text/plain', start_char_idx=0, end_char_idx=5866, text_template='{metadata_str}\\n\\n{content}', metadata_template='{key}: {value}', metadata_seperator='\\n'), score=0.7446591854095459)], metadata={'265cbcca-c3c4-4e82-a444-7a40397b1d3d': {'page_label': '1', 'file_name': 'bph-review-2019.pdf', 'file_path': '/Users/michaelkoch/github/posts/data/kg_rag_workflow/bph-review-2019.pdf', 'file_type': 'application/pdf', 'file_size': 1558509, 'creation_date': '2024-08-03', 'last_modified_date': '2024-08-02'}}), is_error=False)], source_nodes=[NodeWithScore(node=TextNode(id_='265cbcca-c3c4-4e82-a444-7a40397b1d3d', embedding=None, metadata={'page_label': '1', 'file_name': 'bph-review-2019.pdf', 'file_path': '/Users/michaelkoch/github/posts/data/kg_rag_workflow/bph-review-2019.pdf', 'file_type': 'application/pdf', 'file_size': 1558509, 'creation_date': '2024-08-03', 'last_modified_date': '2024-08-02'}, excluded_embed_metadata_keys=['file_name', 'file_type', 'file_size', 'creation_date', 'last_modified_date', 'last_accessed_date'], excluded_llm_metadata_keys=['file_name', 'file_type', 'file_size', 'creation_date', 'last_modified_date', 'last_accessed_date'], relationships={<NodeRelationship.SOURCE: '1'>: RelatedNodeInfo(node_id='70989c0c-b301-4992-b54c-2ee47e87daab', node_type=<ObjectType.DOCUMENT: '4'>, metadata={'page_label': '1', 'file_name': 'bph-review-2019.pdf', 'file_path': '/Users/michaelkoch/github/posts/data/kg_rag_workflow/bph-review-2019.pdf', 'file_type': 'application/pdf', 'file_size': 1558509, 'creation_date': '2024-08-03', 'last_modified_date': '2024-08-02'}, hash='403ac5e3314449fa3ef60334749c63d266eee9812523ea5d7e9f8ac0a8ff0a97')}, text=\"Here are some facts extracted from the provided text:\\n\\nnutraceutical treatment ({'creation_date': '2024-08-03', 'last_modified_date': '2024-08-02', 'file_size': 1558509, 'file_path': '/Users/michaelkoch/github/posts/data/kg_rag_workflow/bph-review-2019.pdf', 'description': 'treatment and prevention of benign prostatic hyperplasia and prostate cancer', 'name': 'nutraceutical treatment', 'file_name': 'bph-review-2019.pdf', 'page_label': '1', 'triplet_source_id': '265cbcca-c3c4-4e82-a444-7a40397b1d3d', 'file_type': 'application/pdf'}) -> PREVENTS -> benign prostatic hyperplasia ({'creation_date': '2024-08-03', 'last_modified_date': '2024-08-02', 'file_size': 1558509, 'file_path': '/Users/michaelkoch/github/posts/data/kg_rag_workflow/bph-review-2019.pdf', 'name': 'benign prostatic hyperplasia', 'file_name': 'bph-review-2019.pdf', 'page_label': '1', 'triplet_source_id': '265cbcca-c3c4-4e82-a444-7a40397b1d3d', 'file_type': 'application/pdf'})\\nnutraceutical treatment ({'creation_date': '2024-08-03', 'last_modified_date': '2024-08-02', 'file_size': 1558509, 'file_path': '/Users/michaelkoch/github/posts/data/kg_rag_workflow/bph-review-2019.pdf', 'description': 'treatment and prevention of benign prostatic hyperplasia and prostate cancer', 'name': 'nutraceutical treatment', 'file_name': 'bph-review-2019.pdf', 'page_label': '1', 'triplet_source_id': '265cbcca-c3c4-4e82-a444-7a40397b1d3d', 'file_type': 'application/pdf'}) -> PREVENTS -> prostate cancer ({'creation_date': '2024-08-03', 'last_modified_date': '2024-08-02', 'file_size': 1558509, 'file_path': '/Users/michaelkoch/github/posts/data/kg_rag_workflow/bph-review-2019.pdf', 'name': 'prostate cancer', 'file_name': 'bph-review-2019.pdf', 'page_label': '1', 'triplet_source_id': '265cbcca-c3c4-4e82-a444-7a40397b1d3d', 'file_type': 'application/pdf'})\\nnutraceutical treatment ({'creation_date': '2024-08-03', 'last_modified_date': '2024-08-02', 'file_size': 1558509, 'file_path': '/Users/michaelkoch/github/posts/data/kg_rag_workflow/bph-review-2019.pdf', 'description': 'treatment and prevention of benign prostatic hyperplasia and prostate cancer', 'name': 'nutraceutical treatment', 'file_name': 'bph-review-2019.pdf', 'page_label': '1', 'triplet_source_id': '265cbcca-c3c4-4e82-a444-7a40397b1d3d', 'file_type': 'application/pdf'}) -> CONTAINS -> medicinal plants ({'creation_date': '2024-08-03', 'last_modified_date': '2024-08-02', 'file_size': 1558509, 'file_path': '/Users/michaelkoch/github/posts/data/kg_rag_workflow/bph-review-2019.pdf', 'name': 'medicinal plants', 'file_name': 'bph-review-2019.pdf', 'page_label': '1', 'triplet_source_id': '265cbcca-c3c4-4e82-a444-7a40397b1d3d', 'file_type': 'application/pdf'})\\nnutraceutical treatment ({'creation_date': '2024-08-03', 'last_modified_date': '2024-08-02', 'file_size': 1558509, 'file_path': '/Users/michaelkoch/github/posts/data/kg_rag_workflow/bph-review-2019.pdf', 'description': 'treatment and prevention of benign prostatic hyperplasia and prostate cancer', 'name': 'nutraceutical treatment', 'file_name': 'bph-review-2019.pdf', 'page_label': '1', 'triplet_source_id': '265cbcca-c3c4-4e82-a444-7a40397b1d3d', 'file_type': 'application/pdf'}) -> PREVENTS -> benign prostatic hyperplasia ({'creation_date': '2024-08-03', 'last_modified_date': '2024-08-02', 'file_size': 1558509, 'file_path': '/Users/michaelkoch/github/posts/data/kg_rag_workflow/bph-review-2019.pdf', 'name': 'benign prostatic hyperplasia', 'file_name': 'bph-review-2019.pdf', 'page_label': '1', 'triplet_source_id': '265cbcca-c3c4-4e82-a444-7a40397b1d3d', 'file_type': 'application/pdf'})\\npolyphenols ({'creation_date': '2024-08-03', 'last_modified_date': '2024-08-02', 'file_size': 1558509, 'file_path': '/Users/michaelkoch/github/posts/data/kg_rag_workflow/bph-review-2019.pdf', 'name': 'polyphenols', 'file_name': 'bph-review-2019.pdf', 'page_label': '1', 'triplet_source_id': '265cbcca-c3c4-4e82-a444-7a40397b1d3d', 'file_type': 'application/pdf'}) -> TREATS -> symptoms of BPH ({'creation_date': '2024-08-03', 'last_modified_date': '2024-08-02', 'file_size': 1558509, 'file_path': '/Users/michaelkoch/github/posts/data/kg_rag_workflow/bph-review-2019.pdf', 'name': 'symptoms of BPH', 'file_name': 'bph-review-2019.pdf', 'page_label': '1', 'triplet_source_id': '265cbcca-c3c4-4e82-a444-7a40397b1d3d', 'file_type': 'application/pdf'})\\nSerenoa repens ({'creation_date': '2024-08-03', 'last_modified_date': '2024-08-02', 'file_size': 1558509, 'file_path': '/Users/michaelkoch/github/posts/data/kg_rag_workflow/bph-review-2019.pdf', 'name': 'Serenoa repens', 'file_name': 'bph-review-2019.pdf', 'scientific_name': 'Serenoa repens', 'page_label': '1', 'triplet_source_id': '265cbcca-c3c4-4e82-a444-7a40397b1d3d', 'file_type': 'application/pdf'}) -> TREATS -> symptoms of BPH ({'creation_date': '2024-08-03', 'last_modified_date': '2024-08-02', 'file_size': 1558509, 'file_path': '/Users/michaelkoch/github/posts/data/kg_rag_workflow/bph-review-2019.pdf', 'name': 'symptoms of BPH', 'file_name': 'bph-review-2019.pdf', 'page_label': '1', 'triplet_source_id': '265cbcca-c3c4-4e82-a444-7a40397b1d3d', 'file_type': 'application/pdf'})\\nSerenoa repens ({'creation_date': '2024-08-03', 'last_modified_date': '2024-08-02', 'file_size': 1558509, 'file_path': '/Users/michaelkoch/github/posts/data/kg_rag_workflow/bph-review-2019.pdf', 'name': 'Serenoa repens', 'file_name': 'bph-review-2019.pdf', 'scientific_name': 'Serenoa repens', 'page_label': '1', 'triplet_source_id': '265cbcca-c3c4-4e82-a444-7a40397b1d3d', 'file_type': 'application/pdf'}) -> INTERACTS_WITH -> alpha-blockers and inhibitors of 5-alpha reductase ({'creation_date': '2024-08-03', 'last_modified_date': '2024-08-02', 'file_size': 1558509, 'file_path': '/Users/michaelkoch/github/posts/data/kg_rag_workflow/bph-review-2019.pdf', 'name': 'alpha-blockers and inhibitors of 5-alpha reductase', 'file_name': 'bph-review-2019.pdf', 'page_label': '1', 'triplet_source_id': '265cbcca-c3c4-4e82-a444-7a40397b1d3d', 'file_type': 'application/pdf'})\\n\\n139 Archivio Italiano di Urologia e Andrologia 2019; 91, 3REVIEW\\nNutraceutical treatment and prevention \\nof benign prostatic hyperplasia and prostate cancer \\nArrigo F.G. Cicero1, Olta Allkanjari2, Gian Maria Busetto3, Tommaso Cai4, Gaetano Larganà5,\\nVittorio Magri6, Gianpaolo Perletti7, Francesco Saverio Robustelli Della Cuna8, Giorgio Ivan Russo5,\\nKostantinos Stamatiou9, Alberto Trinchieri10, Annabella Vitalone2\\n1 Dip. di Scienze Mediche e Chirurgiche, Alma Mater Studiorum Università di Bologna, Bologna, Italy;\\n2 Dipartimento di Farmacologia e Fisiologia “V. Erspamer”, Sapienza, Università di Roma, Roma, Italy;\\n3 Department of Urology, Sapienza Università di Roma, Policlinico Umberto I, Roma, Italy;\\n4 Department of Urology, Santa Chiara Regional Hospital, Trento, Italy;\\n5 Urology Department, University of Catania, Catania, Italy;\\n6 Ambulatorio Territoriale di Urologia ed Ecograﬁa Urologica, ASST Nord Milano, Milano, Italy;\\n7 Dipartimento di Biotecnologie e Scienze della Vita, Sezione di Scienze Mediche e Chirurgiche, Università degli Studi \\ndell'Insubria, Varese, Italy, and Faculty of Medicine and Medical Sciences, Ghent University, Ghent Belgium;\\n8 Department of Drugs Sciences, University of Pavia, Pavia, Italy;\\n9 Urology Department, Tzaneion Hospital, Piraeus, Greece;\\n10 CDC Ambrosiana Milano, Italy.\\nDuring the last years, pharmaceutical inno-\\nvations in primary care are dramatically\\nless frequent and will be even more rare in the next future. \\nIn this context, preclinical and clinical research oriented their\\ninterest toward natural compounds efﬁcacy and safety, sup-\\nporting the development of a new “nutraceutical” science.\\nMedicinal plants, in the form of plant parts or extracts of\\nthem, are commonly used for the treatment of prostate dis-\\neases such as benign hypertrophy, prostatitis and chronic\\npelvic pain syndrome.\\nThe pharmacological properties searched for the treatment of\\nprostatic diseases are anti-androgenic, anti-estrogenic, anti-\\nproliferative, antioxidant and anti-inﬂammatory. The most\\nstudied and used medicinal plants are Serenoa repens, Pygeum\\nafricanum and Urtica dioica. Other promising plants are\\nCucurbita pepo, Epilobium spp, Lycopersum esculentum,\\nSecale cereale, Roystonea regia, Vaccinium macrocarpon. In\\nparallel, epidemiological studies demonstrated that diet may\\nplay an important role on incidence and development of pro-\\nstatic diseases. The Mediterranean diet is rich of elements with\\nanti-oxidant properties that act as a protective factor for pro-\\nstatic cancer. Similarly, low intake of animal protein, high\\nintake of fruits and vegetable, lycopene and zinc are a protec-\\ntive factor for benign prostatic hyperplasia (BPH).\\nSerenoa repens in the treatment of symptoms of BPH has been\\ntested either alone or, more frequently, in combination with\\nother medicinal plants, alpha-blockers and inhibitors of 5-\\nalpha reductase (5-ARI). Recent meta-analyses found the effec-\\ntiveness of Serenoa repens similar or inferior of that of ﬁnas-\\nteride and tamsulosin but clearly higher than that of placebo\\nin the treatment of mild and moderate low urinary tract symp-\\ntoms (LUTS), nocturia and discomfort. Clinical trials showed\\npotential synergistic effect of Serenoa repens with other medic-\\ninal plants and drugs. In addition to Serenoa repens, there are\\nmany other medicinal plants for which clinical evidence is still\\ncontroversial. Urtica dioica, Pygeum africanum and Curcubita\\npepo can be considered as an adjunct to the common therapies\\nand their use is supported by studies showing improvement of\\nsymptoms and ﬂowmetric indices. Lycopene and selenium areSummary\\nNo conﬂict of interest declared.DOI:10.4081/aiua.2019.3.139\\nnatural products with antioxidant and anti-inﬂammatory\\naction. The combination of lycopene and selenium with\\nSerenoa repens was able to reduce inﬂammation in histologi-\\ncal prostate sections and to further improve symptom scores\\nand urinary ﬂow in patients with BPH on tamsulosin treat-\\nment. Similar effects could be obtained with the use of other\\ncarotenoids, such as astaxanthin, and/or zinc. Efﬁcacy on\\nsymptoms of patients with BPH of some polyphenols such as\\nquercitin, equol and curcumin have been demonstrated by\\nclinical studies. Pollen extract is a mixture of natural compo-\\nnents able to inhibit several cytokines and prostaglandin and\\nleukotriene synthesis resulting in a potent anti-inﬂammatory\\neffect. Pollen extracts signiﬁcantly improve symptoms, pain,\\nand quality of life in patients affected by chronic pelvic pain\\nsyndrome and chronic prostatitis. Beta-sitosterol is a sterol\\nable to improve urinary symptoms and ﬂow measures, but\\nnot to reduce the size of the prostate gland.\\nPalmitoylethanolamide (PEA) is an endogenous fatty acid\\namide-signaling molecule with anti-inﬂammatory and neuro-\\nprotective effects that can have an interesting role in the\\nmanagement of chronic pelvic pain syndrome and chronic\\nurological pain.\\nFinally, several plant-based products have been subjected to\\npreclinical, in vitro and in vivo, investigations for their poten-\\ntial pharmacological activity against prostate cancer. Some\\nepidemiological studies or clinical trials evaluated the effects\\nof beverages, extracts or food preparations on the risk of\\nprostate cancer. Some plant species deserved more intense\\ninvestigation, such as Camelia sinensis (green or black tea),\\nSolanum lycopersicum (common tomato), Punica granatum\\n(pomegranate), Glycine max (common soy) and Linum usi-\\ntatissimum (linen).\\nKEYWORDS:Medicinal plant; Prostate; Benign prostatic\\n hyperplasia; Prostate cancer; Antiproliferative effect; 5α-reduc-\\ntase; Serenoa repens; Pygeum africanum; Urtica dioica;\\nCucurbita pepo; Lycopene; Selenium; Polyphenols; Pollen\\nextract; Beta-sitosterol; Palmitoylethanolamide.\\nSubmitted 1 July 2019; Accepted 25 July 2019Cicero_Stesura Seveso  30/09/19  18:17  Pagina 139\", mimetype='text/plain', start_char_idx=0, end_char_idx=5866, text_template='{metadata_str}\\n\\n{content}', metadata_template='{key}: {value}', metadata_seperator='\\n'), score=0.7446591854095459)], is_dummy_stream=False, metadata=None)"
      ]
     },
     "execution_count": 22,
     "metadata": {},
     "output_type": "execute_result"
    }
   ],
   "source": [
    "index.as_chat_engine().chat(query)"
   ]
  },
  {
   "cell_type": "code",
   "execution_count": null,
   "metadata": {},
   "outputs": [
    {
     "name": "stdout",
     "output_type": "stream",
     "text": [
      "Retrieved 1 nodes.\n"
     ]
    }
   ],
   "source": [
    "retriever = dynamic_index.as_retriever(similarity_top_k=5)\n",
    "nodes = retriever.retrieve(query)\n",
    "print(f\"Retrieved {len(nodes)} nodes.\")\n",
    "\n"
   ]
  },
  {
   "cell_type": "code",
   "execution_count": null,
   "metadata": {},
   "outputs": [
    {
     "data": {
      "text/plain": [
       "[NodeWithScore(node=TextNode(id_='265cbcca-c3c4-4e82-a444-7a40397b1d3d', embedding=None, metadata={'page_label': '1', 'file_name': 'bph-review-2019.pdf', 'file_path': '/Users/michaelkoch/github/posts/data/kg_rag_workflow/bph-review-2019.pdf', 'file_type': 'application/pdf', 'file_size': 1558509, 'creation_date': '2024-08-03', 'last_modified_date': '2024-08-02'}, excluded_embed_metadata_keys=['file_name', 'file_type', 'file_size', 'creation_date', 'last_modified_date', 'last_accessed_date'], excluded_llm_metadata_keys=['file_name', 'file_type', 'file_size', 'creation_date', 'last_modified_date', 'last_accessed_date'], relationships={<NodeRelationship.SOURCE: '1'>: RelatedNodeInfo(node_id='70989c0c-b301-4992-b54c-2ee47e87daab', node_type=<ObjectType.DOCUMENT: '4'>, metadata={'page_label': '1', 'file_name': 'bph-review-2019.pdf', 'file_path': '/Users/michaelkoch/github/posts/data/kg_rag_workflow/bph-review-2019.pdf', 'file_type': 'application/pdf', 'file_size': 1558509, 'creation_date': '2024-08-03', 'last_modified_date': '2024-08-02'}, hash='403ac5e3314449fa3ef60334749c63d266eee9812523ea5d7e9f8ac0a8ff0a97')}, text=\"Here are some facts extracted from the provided text:\\n\\nnutraceutical treatment ({'creation_date': '2024-08-03', 'last_modified_date': '2024-08-02', 'file_size': 1558509, 'file_path': '/Users/michaelkoch/github/posts/data/kg_rag_workflow/bph-review-2019.pdf', 'description': 'treatment and prevention of benign prostatic hyperplasia and prostate cancer', 'name': 'nutraceutical treatment', 'file_name': 'bph-review-2019.pdf', 'page_label': '1', 'triplet_source_id': '265cbcca-c3c4-4e82-a444-7a40397b1d3d', 'file_type': 'application/pdf'}) -> PREVENTS -> benign prostatic hyperplasia ({'creation_date': '2024-08-03', 'last_modified_date': '2024-08-02', 'file_size': 1558509, 'file_path': '/Users/michaelkoch/github/posts/data/kg_rag_workflow/bph-review-2019.pdf', 'name': 'benign prostatic hyperplasia', 'file_name': 'bph-review-2019.pdf', 'page_label': '1', 'triplet_source_id': '265cbcca-c3c4-4e82-a444-7a40397b1d3d', 'file_type': 'application/pdf'})\\nnutraceutical treatment ({'creation_date': '2024-08-03', 'last_modified_date': '2024-08-02', 'file_size': 1558509, 'file_path': '/Users/michaelkoch/github/posts/data/kg_rag_workflow/bph-review-2019.pdf', 'description': 'treatment and prevention of benign prostatic hyperplasia and prostate cancer', 'name': 'nutraceutical treatment', 'file_name': 'bph-review-2019.pdf', 'page_label': '1', 'triplet_source_id': '265cbcca-c3c4-4e82-a444-7a40397b1d3d', 'file_type': 'application/pdf'}) -> PREVENTS -> prostate cancer ({'creation_date': '2024-08-03', 'last_modified_date': '2024-08-02', 'file_size': 1558509, 'file_path': '/Users/michaelkoch/github/posts/data/kg_rag_workflow/bph-review-2019.pdf', 'name': 'prostate cancer', 'file_name': 'bph-review-2019.pdf', 'page_label': '1', 'triplet_source_id': '265cbcca-c3c4-4e82-a444-7a40397b1d3d', 'file_type': 'application/pdf'})\\nnutraceutical treatment ({'creation_date': '2024-08-03', 'last_modified_date': '2024-08-02', 'file_size': 1558509, 'file_path': '/Users/michaelkoch/github/posts/data/kg_rag_workflow/bph-review-2019.pdf', 'description': 'treatment and prevention of benign prostatic hyperplasia and prostate cancer', 'name': 'nutraceutical treatment', 'file_name': 'bph-review-2019.pdf', 'page_label': '1', 'triplet_source_id': '265cbcca-c3c4-4e82-a444-7a40397b1d3d', 'file_type': 'application/pdf'}) -> CONTAINS -> medicinal plants ({'creation_date': '2024-08-03', 'last_modified_date': '2024-08-02', 'file_size': 1558509, 'file_path': '/Users/michaelkoch/github/posts/data/kg_rag_workflow/bph-review-2019.pdf', 'name': 'medicinal plants', 'file_name': 'bph-review-2019.pdf', 'page_label': '1', 'triplet_source_id': '265cbcca-c3c4-4e82-a444-7a40397b1d3d', 'file_type': 'application/pdf'})\\npolyphenols ({'creation_date': '2024-08-03', 'last_modified_date': '2024-08-02', 'file_size': 1558509, 'file_path': '/Users/michaelkoch/github/posts/data/kg_rag_workflow/bph-review-2019.pdf', 'name': 'polyphenols', 'file_name': 'bph-review-2019.pdf', 'page_label': '1', 'triplet_source_id': '265cbcca-c3c4-4e82-a444-7a40397b1d3d', 'file_type': 'application/pdf'}) -> TREATS -> symptoms of BPH ({'creation_date': '2024-08-03', 'last_modified_date': '2024-08-02', 'file_size': 1558509, 'file_path': '/Users/michaelkoch/github/posts/data/kg_rag_workflow/bph-review-2019.pdf', 'name': 'symptoms of BPH', 'file_name': 'bph-review-2019.pdf', 'page_label': '1', 'triplet_source_id': '265cbcca-c3c4-4e82-a444-7a40397b1d3d', 'file_type': 'application/pdf'})\\nSerenoa repens ({'creation_date': '2024-08-03', 'last_modified_date': '2024-08-02', 'file_size': 1558509, 'file_path': '/Users/michaelkoch/github/posts/data/kg_rag_workflow/bph-review-2019.pdf', 'name': 'Serenoa repens', 'file_name': 'bph-review-2019.pdf', 'scientific_name': 'Serenoa repens', 'page_label': '1', 'triplet_source_id': '265cbcca-c3c4-4e82-a444-7a40397b1d3d', 'file_type': 'application/pdf'}) -> TREATS -> symptoms of BPH ({'creation_date': '2024-08-03', 'last_modified_date': '2024-08-02', 'file_size': 1558509, 'file_path': '/Users/michaelkoch/github/posts/data/kg_rag_workflow/bph-review-2019.pdf', 'name': 'symptoms of BPH', 'file_name': 'bph-review-2019.pdf', 'page_label': '1', 'triplet_source_id': '265cbcca-c3c4-4e82-a444-7a40397b1d3d', 'file_type': 'application/pdf'})\\n\\n139 Archivio Italiano di Urologia e Andrologia 2019; 91, 3REVIEW\\nNutraceutical treatment and prevention \\nof benign prostatic hyperplasia and prostate cancer \\nArrigo F.G. Cicero1, Olta Allkanjari2, Gian Maria Busetto3, Tommaso Cai4, Gaetano Larganà5,\\nVittorio Magri6, Gianpaolo Perletti7, Francesco Saverio Robustelli Della Cuna8, Giorgio Ivan Russo5,\\nKostantinos Stamatiou9, Alberto Trinchieri10, Annabella Vitalone2\\n1 Dip. di Scienze Mediche e Chirurgiche, Alma Mater Studiorum Università di Bologna, Bologna, Italy;\\n2 Dipartimento di Farmacologia e Fisiologia “V. Erspamer”, Sapienza, Università di Roma, Roma, Italy;\\n3 Department of Urology, Sapienza Università di Roma, Policlinico Umberto I, Roma, Italy;\\n4 Department of Urology, Santa Chiara Regional Hospital, Trento, Italy;\\n5 Urology Department, University of Catania, Catania, Italy;\\n6 Ambulatorio Territoriale di Urologia ed Ecograﬁa Urologica, ASST Nord Milano, Milano, Italy;\\n7 Dipartimento di Biotecnologie e Scienze della Vita, Sezione di Scienze Mediche e Chirurgiche, Università degli Studi \\ndell'Insubria, Varese, Italy, and Faculty of Medicine and Medical Sciences, Ghent University, Ghent Belgium;\\n8 Department of Drugs Sciences, University of Pavia, Pavia, Italy;\\n9 Urology Department, Tzaneion Hospital, Piraeus, Greece;\\n10 CDC Ambrosiana Milano, Italy.\\nDuring the last years, pharmaceutical inno-\\nvations in primary care are dramatically\\nless frequent and will be even more rare in the next future. \\nIn this context, preclinical and clinical research oriented their\\ninterest toward natural compounds efﬁcacy and safety, sup-\\nporting the development of a new “nutraceutical” science.\\nMedicinal plants, in the form of plant parts or extracts of\\nthem, are commonly used for the treatment of prostate dis-\\neases such as benign hypertrophy, prostatitis and chronic\\npelvic pain syndrome.\\nThe pharmacological properties searched for the treatment of\\nprostatic diseases are anti-androgenic, anti-estrogenic, anti-\\nproliferative, antioxidant and anti-inﬂammatory. The most\\nstudied and used medicinal plants are Serenoa repens, Pygeum\\nafricanum and Urtica dioica. Other promising plants are\\nCucurbita pepo, Epilobium spp, Lycopersum esculentum,\\nSecale cereale, Roystonea regia, Vaccinium macrocarpon. In\\nparallel, epidemiological studies demonstrated that diet may\\nplay an important role on incidence and development of pro-\\nstatic diseases. The Mediterranean diet is rich of elements with\\nanti-oxidant properties that act as a protective factor for pro-\\nstatic cancer. Similarly, low intake of animal protein, high\\nintake of fruits and vegetable, lycopene and zinc are a protec-\\ntive factor for benign prostatic hyperplasia (BPH).\\nSerenoa repens in the treatment of symptoms of BPH has been\\ntested either alone or, more frequently, in combination with\\nother medicinal plants, alpha-blockers and inhibitors of 5-\\nalpha reductase (5-ARI). Recent meta-analyses found the effec-\\ntiveness of Serenoa repens similar or inferior of that of ﬁnas-\\nteride and tamsulosin but clearly higher than that of placebo\\nin the treatment of mild and moderate low urinary tract symp-\\ntoms (LUTS), nocturia and discomfort. Clinical trials showed\\npotential synergistic effect of Serenoa repens with other medic-\\ninal plants and drugs. In addition to Serenoa repens, there are\\nmany other medicinal plants for which clinical evidence is still\\ncontroversial. Urtica dioica, Pygeum africanum and Curcubita\\npepo can be considered as an adjunct to the common therapies\\nand their use is supported by studies showing improvement of\\nsymptoms and ﬂowmetric indices. Lycopene and selenium areSummary\\nNo conﬂict of interest declared.DOI:10.4081/aiua.2019.3.139\\nnatural products with antioxidant and anti-inﬂammatory\\naction. The combination of lycopene and selenium with\\nSerenoa repens was able to reduce inﬂammation in histologi-\\ncal prostate sections and to further improve symptom scores\\nand urinary ﬂow in patients with BPH on tamsulosin treat-\\nment. Similar effects could be obtained with the use of other\\ncarotenoids, such as astaxanthin, and/or zinc. Efﬁcacy on\\nsymptoms of patients with BPH of some polyphenols such as\\nquercitin, equol and curcumin have been demonstrated by\\nclinical studies. Pollen extract is a mixture of natural compo-\\nnents able to inhibit several cytokines and prostaglandin and\\nleukotriene synthesis resulting in a potent anti-inﬂammatory\\neffect. Pollen extracts signiﬁcantly improve symptoms, pain,\\nand quality of life in patients affected by chronic pelvic pain\\nsyndrome and chronic prostatitis. Beta-sitosterol is a sterol\\nable to improve urinary symptoms and ﬂow measures, but\\nnot to reduce the size of the prostate gland.\\nPalmitoylethanolamide (PEA) is an endogenous fatty acid\\namide-signaling molecule with anti-inﬂammatory and neuro-\\nprotective effects that can have an interesting role in the\\nmanagement of chronic pelvic pain syndrome and chronic\\nurological pain.\\nFinally, several plant-based products have been subjected to\\npreclinical, in vitro and in vivo, investigations for their poten-\\ntial pharmacological activity against prostate cancer. Some\\nepidemiological studies or clinical trials evaluated the effects\\nof beverages, extracts or food preparations on the risk of\\nprostate cancer. Some plant species deserved more intense\\ninvestigation, such as Camelia sinensis (green or black tea),\\nSolanum lycopersicum (common tomato), Punica granatum\\n(pomegranate), Glycine max (common soy) and Linum usi-\\ntatissimum (linen).\\nKEYWORDS:Medicinal plant; Prostate; Benign prostatic\\n hyperplasia; Prostate cancer; Antiproliferative effect; 5α-reduc-\\ntase; Serenoa repens; Pygeum africanum; Urtica dioica;\\nCucurbita pepo; Lycopene; Selenium; Polyphenols; Pollen\\nextract; Beta-sitosterol; Palmitoylethanolamide.\\nSubmitted 1 July 2019; Accepted 25 July 2019Cicero_Stesura Seveso  30/09/19  18:17  Pagina 139\", mimetype='text/plain', start_char_idx=0, end_char_idx=5866, text_template='{metadata_str}\\n\\n{content}', metadata_template='{key}: {value}', metadata_seperator='\\n'), score=0.746029257774353)]"
      ]
     },
     "execution_count": 25,
     "metadata": {},
     "output_type": "execute_result"
    }
   ],
   "source": [
    "retriever = index.as_retriever(similarity_top_k=2)\n",
    "retriever.retrieve(query)"
   ]
  }
 ],
 "metadata": {
  "kernelspec": {
   "display_name": "latest_llama",
   "language": "python",
   "name": "python3"
  },
  "language_info": {
   "codemirror_mode": {
    "name": "ipython",
    "version": 3
   },
   "file_extension": ".py",
   "mimetype": "text/x-python",
   "name": "python",
   "nbconvert_exporter": "python",
   "pygments_lexer": "ipython3",
   "version": "3.11.9"
  }
 },
 "nbformat": 4,
 "nbformat_minor": 2
}
