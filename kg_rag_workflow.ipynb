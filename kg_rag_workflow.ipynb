{
 "cells": [
  {
   "cell_type": "code",
   "execution_count": 1,
   "metadata": {},
   "outputs": [],
   "source": [
    "import nest_asyncio\n",
    "\n",
    "nest_asyncio.apply()"
   ]
  },
  {
   "cell_type": "code",
   "execution_count": 2,
   "metadata": {},
   "outputs": [],
   "source": [
    "# !pip install -U llama-index"
   ]
  },
  {
   "cell_type": "code",
   "execution_count": 3,
   "metadata": {},
   "outputs": [],
   "source": [
    "from utils import load_env\n",
    "\n",
    "load_env()"
   ]
  },
  {
   "cell_type": "markdown",
   "metadata": {},
   "source": [
    "# Designing the Workflow TBD\n",
    "\n",
    "RAG + Reranking consists of some clearly defined steps\n",
    "\n",
    "Indexing data, creating an index\n",
    "Using that index + a query to retrieve relevant text chunks\n",
    "Rerank the text retrieved text chunks using the original query\n",
    "Synthesizing a final response\n",
    "With this in mind, we can create events and workflow steps to follow this process!"
   ]
  },
  {
   "cell_type": "code",
   "execution_count": 4,
   "metadata": {},
   "outputs": [],
   "source": [
    "# TBD\n",
    "from llama_index.core.workflow import Event\n",
    "from llama_index.core.schema import NodeWithScore\n",
    "\n",
    "\n",
    "class RetrieverEvent(Event):\n",
    "    \"\"\"Result of running retrieval\"\"\"\n",
    "\n",
    "    nodes: list[NodeWithScore]\n",
    "\n",
    "\n",
    "class RerankEvent(Event):\n",
    "    \"\"\"Result of running reranking on retrieved nodes\"\"\"\n",
    "\n",
    "    nodes: list[NodeWithScore]"
   ]
  },
  {
   "cell_type": "markdown",
   "metadata": {},
   "source": [
    "# Workflow components"
   ]
  },
  {
   "cell_type": "markdown",
   "metadata": {},
   "source": [
    "## local neo4j docker instance\n",
    "\n",
    "\n",
    "for mac or linux, use below\n",
    "```bash\n",
    "docker run \\\n",
    "    -p 7474:7474 -p 7687:7687 \\\n",
    "    -v $PWD/data:/data -v $PWD/plugins:/plugins \\\n",
    "    --name neo4j-apoc \\\n",
    "    -e NEO4J_apoc_export_file_enabled=true \\\n",
    "    -e NEO4J_apoc_import_file_enabled=true \\\n",
    "    -e NEO4J_apoc_import_file_use__neo4j__config=true \\\n",
    "    -e NEO4JLABS_PLUGINS=\\[\\\"apoc\\\"\\] \\\n",
    "    neo4j:latest\n",
    "```\n",
    "\n",
    "for windows on anaconda prompt, run below\n",
    "\n",
    "```bash\n",
    "docker run ^\n",
    "   -p 7474:7474 -p 7687:7687 ^\n",
    "   -v \"%CD%/data:/data\" -v \"%CD%/plugins:/plugins\" ^\n",
    "   --name neo4j-apoc ^\n",
    "   -e NEO4J_apoc_export_file_enabled=true ^\n",
    "   -e NEO4J_apoc_import_file_enabled=true ^\n",
    "   -e NEO4J_apoc_import_file_use__neo4j__config=true ^\n",
    "   -e NEO4JLABS_PLUGINS=\"[\\\"apoc\\\"]\" ^\n",
    "   neo4j:latest\n",
    "```\n",
    "Go see your instance at http://localhost:7474/browser/. Default login and password is 'neo4j'.\n",
    "\n",
    "You will be asked to change the password, change it to 'password'.\n"
   ]
  },
  {
   "cell_type": "code",
   "execution_count": 5,
   "metadata": {},
   "outputs": [
    {
     "name": "stderr",
     "output_type": "stream",
     "text": [
      "Received notification from DBMS server: {severity: WARNING} {code: Neo.ClientNotification.Statement.FeatureDeprecationWarning} {category: DEPRECATION} {title: This feature is deprecated and will be removed in future versions.} {description: The procedure has a deprecated field. ('config' used by 'apoc.meta.graphSample' is deprecated.)} {position: line: 1, column: 1, offset: 0} for query: \"CALL apoc.meta.graphSample() YIELD nodes, relationships RETURN nodes, [rel in relationships | {name:apoc.any.property(rel, 'type'), count: apoc.any.property(rel, 'count')}] AS relationships\"\n"
     ]
    }
   ],
   "source": [
    "from llama_index.graph_stores.neo4j import Neo4jPGStore\n",
    "\n",
    "username = \"neo4j\"\n",
    "password = \"password\"\n",
    "url = \"bolt://localhost:7687\"\n",
    "\n",
    "# connect to the graph store\n",
    "graph_store = Neo4jPGStore(username=username, password=password, url=url)"
   ]
  },
  {
   "cell_type": "markdown",
   "metadata": {},
   "source": [
    "## The Workflow Itself\n",
    "With our events defined, we can construct our workflow and steps\n",
    "\n",
    "Note that the workflow automatically validates itself using type annotations, so the type annotations on our steps are very helpful"
   ]
  },
  {
   "cell_type": "code",
   "execution_count": 6,
   "metadata": {},
   "outputs": [],
   "source": [
    "from llama_index.core.schema import TextNode\n",
    "from typing import List\n",
    "import json\n",
    "\n",
    "# helper functions\n",
    "def get_text_nodes(json_list: List[dict]):\n",
    "    text_nodes = []\n",
    "    for idx, page in enumerate(json_list):\n",
    "        text_node = TextNode(text=page[\"md\"], metadata={\"page\": page[\"page\"]})\n",
    "        text_nodes.append(text_node)\n",
    "    return text_nodes\n",
    "\n",
    "\n",
    "def save_jsonl(data_list, filename):\n",
    "    \"\"\"Save a list of dictionaries as JSON Lines.\"\"\"\n",
    "    with open(filename, \"w\") as file:\n",
    "        for item in data_list:\n",
    "            json.dump(item, file)\n",
    "            file.write(\"\\n\")\n",
    "\n",
    "\n",
    "def load_jsonl(filename):\n",
    "    \"\"\"Load a list of dictionaries from JSON Lines.\"\"\"\n",
    "    data_list = []\n",
    "    with open(filename, \"r\") as file:\n",
    "        for line in file:\n",
    "            data_list.append(json.loads(line))\n",
    "    return data_list"
   ]
  },
  {
   "cell_type": "code",
   "execution_count": 7,
   "metadata": {},
   "outputs": [],
   "source": [
    "from llama_index.core import SimpleDirectoryReader, VectorStoreIndex\n",
    "from llama_index.core.response_synthesizers import CompactAndRefine\n",
    "from llama_index.core.postprocessor.llm_rerank import LLMRerank\n",
    "from llama_index.core.workflow import (\n",
    "    Context,\n",
    "    Workflow,\n",
    "    StartEvent,\n",
    "    StopEvent,\n",
    "    step,\n",
    ")\n",
    "\n",
    "from llama_index.llms.openai import OpenAI\n",
    "from llama_index.embeddings.openai import OpenAIEmbedding\n",
    "\n",
    "from llama_index.core import SimpleDirectoryReader\n",
    "\n",
    "\n",
    "class GraphRAGWorkflow(Workflow):\n",
    "    @step(pass_context=True)\n",
    "    async def ingest_docs(self, ctx: Context, ev: StartEvent) -> StopEvent | None:\n",
    "        \"\"\"Ingest the documents using LlamaParse\"\"\"\n",
    "        dirpath = ev.get(\"dirpath\")\n",
    "        if not dirpath:\n",
    "            return None\n",
    "        \n",
    "        docs = SimpleDirectoryReader(dirpath).load_data()\n",
    "        print(f\"ingested {len(docs)} docs\")\n",
    "        return StopEvent(result=docs)\n",
    "        # return StopEvent(result=f\"ingested {len(docs)} docs\")\n",
    "\n",
    "\n",
    "\n",
    "    @step(pass_context=True)\n",
    "    async def index_docs(self, ctx: Context, ev: StartEvent) -> StopEvent | None:\n",
    "        \"\"\"Index the documents dynamically\"\"\"\n",
    "        max_triplets = ev.get(\"max_triplets\")\n",
    "        if not max_triplets:\n",
    "            return None\n",
    "        \n",
    "        docs: List[TextNode] = ctx.data.get(\"docs\", [])\n",
    "        kg_extractor = DynamicLLMPathExtractor(\n",
    "            llm=llm,\n",
    "            max_triplets_per_chunk=max_triplets,\n",
    "            num_workers=4,\n",
    "            allowed_entity_types=None,\n",
    "            allowed_relation_types=None,\n",
    "            allowed_relation_props=None,\n",
    "            allowed_entity_props=None,\n",
    "        )\n",
    "\n",
    "        dynamic_index = PropertyGraphIndex.from_documents(\n",
    "            docs,\n",
    "            llm=llm,\n",
    "            embed_model=embed_model,\n",
    "            property_graph_store=graph_store,\n",
    "            kg_extractors=[kg_extractor],\n",
    "            show_progress=True,\n",
    "        )\n",
    "\n",
    "        return StopEvent(result=dynamic_index)\n",
    "\n",
    "        "
   ]
  },
  {
   "cell_type": "markdown",
   "metadata": {},
   "source": [
    "# Run the workflow"
   ]
  },
  {
   "cell_type": "code",
   "execution_count": 9,
   "metadata": {},
   "outputs": [
    {
     "name": "stderr",
     "output_type": "stream",
     "text": [
      "Ignoring wrong pointing object 14 0 (offset 0)\n",
      "Ignoring wrong pointing object 34 0 (offset 0)\n",
      "Ignoring wrong pointing object 51 0 (offset 0)\n",
      "Ignoring wrong pointing object 67 0 (offset 0)\n",
      "Ignoring wrong pointing object 86 0 (offset 0)\n",
      "Ignoring wrong pointing object 108 0 (offset 0)\n",
      "Ignoring wrong pointing object 127 0 (offset 0)\n",
      "Ignoring wrong pointing object 140 0 (offset 0)\n",
      "Ignoring wrong pointing object 180 0 (offset 0)\n"
     ]
    },
    {
     "name": "stdout",
     "output_type": "stream",
     "text": [
      "Running step index_docs\n",
      "Step index_docs produced no event\n",
      "Running step ingest_docs\n",
      "ingested 46 docs\n",
      "Step ingest_docs produced event StopEvent\n"
     ]
    }
   ],
   "source": [
    "# Ingest the documents\n",
    "\n",
    "w = GraphRAGWorkflow(timeout=120, verbose=True)\n",
    "docs = await w.run(dirpath=\"data/kg_rag_workflow/\")"
   ]
  },
  {
   "cell_type": "code",
   "execution_count": 18,
   "metadata": {},
   "outputs": [
    {
     "name": "stdout",
     "output_type": "stream",
     "text": [
      "docs is type <class 'llama_index.core.schema.Document'>\n",
      "--------------------------------------------------\n",
      "Doc ID: 349cafba-c028-4bf4-a27a-ae90183322f9\n",
      "Text: 139 Archivio Italiano di Urologia e Andrologia 2019; 91, 3REVIEW\n",
      "Nutraceutical treatment and prevention  of benign prostatic\n",
      "hyperplasia and prostate cancer  Arrigo F.G. Cicero1, Olta\n",
      "Allkanjari2, Gian Maria Busetto3, Tommaso Cai4, Gaetano Larganà5,\n",
      "Vittorio Magri6, Gianpaolo Perletti7, Francesco Saverio Robustelli\n",
      "Della Cuna8, Giorgio Ivan Russ...\n",
      "--------------------------------------------------\n",
      "Doc ID: 84232ada-e846-4d26-ad74-dd321ead2b27\n",
      "Text: Archivio Italiano di Urologia e Andrologia 2019; 91, 3A.F.G.\n",
      "Cicero, O. Allkanjari, G.M. Busetto, et al.\n",
      "140INTRODUCTIONTONUTRACEUTICALPRESCRIPTION (Arrigo F.G. Cicero) During\n",
      "the last years, the pharmaceutical innovation in primary care are\n",
      "dramatically less frequent and will be even more rare in the next\n",
      "future. In this context, pre- clinical...\n"
     ]
    }
   ],
   "source": [
    "# Display the first 2 documents\n",
    "print(f\"docs is type {type(docs[0])}\")\n",
    "for doc in docs[:2]:\n",
    "    print(\"-\" * 50)\n",
    "    print(doc)"
   ]
  },
  {
   "cell_type": "code",
   "execution_count": 11,
   "metadata": {},
   "outputs": [],
   "source": [
    "# dynamic_index = w.run(max_triplets=20, timeout=120, verbose=True)"
   ]
  },
  {
   "cell_type": "code",
   "execution_count": 19,
   "metadata": {},
   "outputs": [
    {
     "data": {
      "text/plain": [
       "llama_index.core.schema.Document"
      ]
     },
     "execution_count": 19,
     "metadata": {},
     "output_type": "execute_result"
    }
   ],
   "source": [
    "len(docs)\n",
    "type(docs[0])"
   ]
  },
  {
   "cell_type": "code",
   "execution_count": 28,
   "metadata": {},
   "outputs": [
    {
     "data": {
      "text/plain": [
       "5866"
      ]
     },
     "execution_count": 28,
     "metadata": {},
     "output_type": "execute_result"
    }
   ],
   "source": [
    "len(docs[0].text)"
   ]
  },
  {
   "cell_type": "code",
   "execution_count": 29,
   "metadata": {},
   "outputs": [
    {
     "name": "stdout",
     "output_type": "stream",
     "text": [
      "139 Archivio Italiano di Urologia e Andrologia 2019; 91, 3REVIEW\n",
      "Nutraceutical treatment and prevention \n",
      "of benign prostatic hyperplasia and prostate cancer \n",
      "Arrigo F.G. Cicero1, Olta Allkanjari2, Gian Maria Busetto3, Tommaso Cai4, Gaetano Larganà5,\n",
      "Vittorio Magri6, Gianpaolo Perletti7, Francesco Saverio Robustelli Della Cuna8, Giorgio Ivan Russo5,\n",
      "Kostantinos Stamatiou9, Alberto Trinchieri10, Annabella Vitalone2\n",
      "1 Dip. di Scienze Mediche e Chirurgiche, Alma Mater Studiorum Università di Bologna, Bologna, Italy;\n",
      "2 Dipartimento di Farmacologia e Fisiologia “V. Erspamer”, Sapienza, Università di Roma, Roma, Italy;\n",
      "3 Department of Urology, Sapienza Università di Roma, Policlinico Umberto I, Roma, Italy;\n",
      "4 Department of Urology, Santa Chiara Regional Hospital, Trento, Italy;\n",
      "5 Urology Department, University of Catania, Catania, Italy;\n",
      "6 Ambulatorio Territoriale di Urologia ed Ecograﬁa Urologica, ASST Nord Milano, Milano, Italy;\n",
      "7 Dipartimento di Biotecnologie e Scienze della Vita, Sezione di Scienze Mediche e Chirurgiche, Università degli Studi \n",
      "dell'Insubria, Varese, Italy, and Faculty of Medicine and Medical Sciences, Ghent University, Ghent Belgium;\n",
      "8 Department of Drugs Sciences, University of Pavia, Pavia, Italy;\n",
      "9 Urology Department, Tzaneion Hospital, Piraeus, Greece;\n",
      "10 CDC Ambrosiana Milano, Italy.\n",
      "During the last years, pharmaceutical inno-\n",
      "vations in primary care are dramatically\n",
      "less frequent and will be even more rare in the next future. \n",
      "In this context, preclinical and clinical research oriented their\n",
      "interest toward natural compounds efﬁcacy and safety, sup-\n",
      "porting the development of a new “nutraceutical” science.\n",
      "Medicinal plants, in the form of plant parts or extracts of\n",
      "them, are commonly used for the treatment of prostate dis-\n",
      "eases such as benign hypertrophy, prostatitis and chronic\n",
      "pelvic pain syndrome.\n",
      "The pharmacological properties searched for the treatment of\n",
      "prostatic diseases are anti-androgenic, anti-estrogenic, anti-\n",
      "proliferative, antioxidant and anti-inﬂammatory. The most\n",
      "studied and used medicinal plants are Serenoa repens, Pygeum\n",
      "africanum and Urtica dioica. Other promising plants are\n",
      "Cucurbita pepo, Epilobium spp, Lycopersum esculentum,\n",
      "Secale cereale, Roystonea regia, Vaccinium macrocarpon. In\n",
      "parallel, epidemiological studies demonstrated that diet may\n",
      "play an important role on incidence and development of pro-\n",
      "static diseases. The Mediterranean diet is rich of elements with\n",
      "anti-oxidant properties that act as a protective factor for pro-\n",
      "static cancer. Similarly, low intake of animal protein, high\n",
      "intake of fruits and vegetable, lycopene and zinc are a protec-\n",
      "tive factor for benign prostatic hyperplasia (BPH).\n",
      "Serenoa repens in the treatment of symptoms of BPH has been\n",
      "tested either alone or, more frequently, in combination with\n",
      "other medicinal plants, alpha-blockers and inhibitors of 5-\n",
      "alpha reductase (5-ARI). Recent meta-analyses found the effec-\n",
      "tiveness of Serenoa repens similar or inferior of that of ﬁnas-\n",
      "teride and tamsulosin but clearly higher than that of placebo\n",
      "in the treatment of mild and moderate low urinary tract symp-\n",
      "toms (LUTS), nocturia and discomfort. Clinical trials showed\n",
      "potential synergistic effect of Serenoa repens with other medic-\n",
      "inal plants and drugs. In addition to Serenoa repens, there are\n",
      "many other medicinal plants for which clinical evidence is still\n",
      "controversial. Urtica dioica, Pygeum africanum and Curcubita\n",
      "pepo can be considered as an adjunct to the common therapies\n",
      "and their use is supported by studies showing improvement of\n",
      "symptoms and ﬂowmetric indices. Lycopene and selenium areSummary\n",
      "No conﬂict of interest declared.DOI:10.4081/aiua.2019.3.139\n",
      "natural products with antioxidant and anti-inﬂammatory\n",
      "action. The combination of lycopene and selenium with\n",
      "Serenoa repens was able to reduce inﬂammation in histologi-\n",
      "cal prostate sections and to further improve symptom scores\n",
      "and urinary ﬂow in patients with BPH on tamsulosin treat-\n",
      "ment. Similar effects could be obtained with the use of other\n",
      "carotenoids, such as astaxanthin, and/or zinc. Efﬁcacy on\n",
      "symptoms of patients with BPH of some polyphenols such as\n",
      "quercitin, equol and curcumin have been demonstrated by\n",
      "clinical studies. Pollen extract is a mixture of natural compo-\n",
      "nents able to inhibit several cytokines and prostaglandin and\n",
      "leukotriene synthesis resulting in a potent anti-inﬂammatory\n",
      "effect. Pollen extracts signiﬁcantly improve symptoms, pain,\n",
      "and quality of life in patients affected by chronic pelvic pain\n",
      "syndrome and chronic prostatitis. Beta-sitosterol is a sterol\n",
      "able to improve urinary symptoms and ﬂow measures, but\n",
      "not to reduce the size of the prostate gland.\n",
      "Palmitoylethanolamide (PEA) is an endogenous fatty acid\n",
      "amide-signaling molecule with anti-inﬂammatory and neuro-\n",
      "protective effects that can have an interesting role in the\n",
      "management of chronic pelvic pain syndrome and chronic\n",
      "urological pain.\n",
      "Finally, several plant-based products have been subjected to\n",
      "preclinical, in vitro and in vivo, investigations for their poten-\n",
      "tial pharmacological activity against prostate cancer. Some\n",
      "epidemiological studies or clinical trials evaluated the effects\n",
      "of beverages, extracts or food preparations on the risk of\n",
      "prostate cancer. Some plant species deserved more intense\n",
      "investigation, such as Camelia sinensis (green or black tea),\n",
      "Solanum lycopersicum (common tomato), Punica granatum\n",
      "(pomegranate), Glycine max (common soy) and Linum usi-\n",
      "tatissimum (linen).\n",
      "KEYWORDS:Medicinal plant; Prostate; Benign prostatic\n",
      " hyperplasia; Prostate cancer; Antiproliferative effect; 5α-reduc-\n",
      "tase; Serenoa repens; Pygeum africanum; Urtica dioica;\n",
      "Cucurbita pepo; Lycopene; Selenium; Polyphenols; Pollen\n",
      "extract; Beta-sitosterol; Palmitoylethanolamide.\n",
      "Submitted 1 July 2019; Accepted 25 July 2019Cicero_Stesura Seveso  30/09/19  18:17  Pagina 139\n"
     ]
    }
   ],
   "source": [
    "print(docs[0].text)"
   ]
  },
  {
   "cell_type": "code",
   "execution_count": 30,
   "metadata": {},
   "outputs": [
    {
     "data": {
      "text/plain": [
       "{'page_label': '1',\n",
       " 'file_name': 'bph-review-2019.pdf',\n",
       " 'file_path': '/Users/michaelkoch/github/posts/data/kg_rag_workflow/bph-review-2019.pdf',\n",
       " 'file_type': 'application/pdf',\n",
       " 'file_size': 1558509,\n",
       " 'creation_date': '2024-08-03',\n",
       " 'last_modified_date': '2024-08-02'}"
      ]
     },
     "execution_count": 30,
     "metadata": {},
     "output_type": "execute_result"
    }
   ],
   "source": [
    "docs[0].metadata"
   ]
  },
  {
   "cell_type": "code",
   "execution_count": 25,
   "metadata": {},
   "outputs": [
    {
     "name": "stderr",
     "output_type": "stream",
     "text": [
      "Parsing nodes: 100%|██████████| 1/1 [00:00<00:00, 281.19it/s]\n",
      "Extracting and inferring knowledge graph from text: 100%|██████████| 2/2 [00:22<00:00, 11.26s/it]\n",
      "Generating embeddings: 100%|██████████| 1/1 [00:00<00:00,  1.27it/s]\n",
      "Generating embeddings: 0it [00:00, ?it/s]\n",
      "Received notification from DBMS server: {severity: WARNING} {code: Neo.ClientNotification.Statement.FeatureDeprecationWarning} {category: DEPRECATION} {title: This feature is deprecated and will be removed in future versions.} {description: The procedure has a deprecated field. ('config' used by 'apoc.meta.graphSample' is deprecated.)} {position: line: 1, column: 1, offset: 0} for query: \"CALL apoc.meta.graphSample() YIELD nodes, relationships RETURN nodes, [rel in relationships | {name:apoc.any.property(rel, 'type'), count: apoc.any.property(rel, 'count')}] AS relationships\"\n"
     ]
    }
   ],
   "source": [
    "from llama_index.core.indices.property_graph import DynamicLLMPathExtractor\n",
    "from llama_index.core import PropertyGraphIndex\n",
    "\n",
    "llm = OpenAI(model=\"gpt-4o-mini\", temperature=0.0)\n",
    "embed_model = OpenAIEmbedding(model=\"text-embedding-3-small\")\n",
    "\n",
    "\n",
    "kg_extractor = DynamicLLMPathExtractor(\n",
    "    llm=llm,\n",
    "    max_triplets_per_chunk=20,\n",
    "    num_workers=4,\n",
    "    allowed_entity_types=None,\n",
    "    allowed_relation_types=None,\n",
    "    allowed_relation_props=[],\n",
    "    allowed_entity_props=[],\n",
    "    # allowed_entity_types=[\"MEDICINAL_PLANT\", \"COMPOUND\", \"SYMPTOM\", \"TREATMENT\", \"DISEASE\", \"STUDY_TYPE\"],\n",
    "    # allowed_relation_types=[\"TREATS\", \"CONTAINS\", \"ALLEVIATES\", \"STUDIED_IN\", \"SIDE_EFFECT_OF\", \"INTERACTS_WITH\"],\n",
    "    # allowed_relation_props=[\"efficacy\", \"dosage\"],\n",
    "    # allowed_entity_props=[\"scientific_name\", \"common_name\", \"description\"]\n",
    ")\n",
    "\n",
    "dynamic_index = PropertyGraphIndex.from_documents(\n",
    "            [docs[0]],\n",
    "            llm=llm,\n",
    "            embed_model=embed_model,\n",
    "            property_graph_store=graph_store,\n",
    "            kg_extractors=[kg_extractor],\n",
    "            show_progress=True,\n",
    "        )"
   ]
  },
  {
   "cell_type": "code",
   "execution_count": null,
   "metadata": {},
   "outputs": [],
   "source": []
  }
 ],
 "metadata": {
  "kernelspec": {
   "display_name": "latest_llama",
   "language": "python",
   "name": "python3"
  },
  "language_info": {
   "codemirror_mode": {
    "name": "ipython",
    "version": 3
   },
   "file_extension": ".py",
   "mimetype": "text/x-python",
   "name": "python",
   "nbconvert_exporter": "python",
   "pygments_lexer": "ipython3",
   "version": "3.11.9"
  }
 },
 "nbformat": 4,
 "nbformat_minor": 2
}
