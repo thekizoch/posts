{
 "cells": [
  {
   "cell_type": "code",
   "execution_count": 28,
   "metadata": {},
   "outputs": [],
   "source": [
    "import nest_asyncio\n",
    "\n",
    "nest_asyncio.apply()"
   ]
  },
  {
   "cell_type": "code",
   "execution_count": 29,
   "metadata": {},
   "outputs": [],
   "source": [
    "# !pip install -U llama-index"
   ]
  },
  {
   "cell_type": "code",
   "execution_count": 30,
   "metadata": {},
   "outputs": [],
   "source": [
    "from utils import load_env\n",
    "\n",
    "load_env()"
   ]
  },
  {
   "cell_type": "markdown",
   "metadata": {},
   "source": [
    "# Designing the Workflow TBD\n",
    "\n",
    "RAG + Reranking consists of some clearly defined steps\n",
    "\n",
    "Indexing data, creating an index\n",
    "Using that index + a query to retrieve relevant text chunks\n",
    "Rerank the text retrieved text chunks using the original query\n",
    "Synthesizing a final response\n",
    "With this in mind, we can create events and workflow steps to follow this process!"
   ]
  },
  {
   "cell_type": "code",
   "execution_count": 31,
   "metadata": {},
   "outputs": [],
   "source": [
    "# TBD\n",
    "from llama_index.core.workflow import Event\n",
    "from llama_index.core.schema import NodeWithScore\n",
    "\n",
    "\n",
    "class RetrieverEvent(Event):\n",
    "    \"\"\"Result of running retrieval\"\"\"\n",
    "\n",
    "    nodes: list[NodeWithScore]\n",
    "\n",
    "\n",
    "class RerankEvent(Event):\n",
    "    \"\"\"Result of running reranking on retrieved nodes\"\"\"\n",
    "\n",
    "    nodes: list[NodeWithScore]"
   ]
  },
  {
   "cell_type": "markdown",
   "metadata": {},
   "source": [
    "# Workflow components"
   ]
  },
  {
   "cell_type": "markdown",
   "metadata": {},
   "source": [
    "## local neo4j docker instance\n",
    "\n",
    "\n",
    "for mac or linux, use below\n",
    "```bash\n",
    "docker run \\\n",
    "    -p 7474:7474 -p 7687:7687 \\\n",
    "    -v $PWD/data:/data -v $PWD/plugins:/plugins \\\n",
    "    --name neo4j-apoc \\\n",
    "    -e NEO4J_apoc_export_file_enabled=true \\\n",
    "    -e NEO4J_apoc_import_file_enabled=true \\\n",
    "    -e NEO4J_apoc_import_file_use__neo4j__config=true \\\n",
    "    -e NEO4J_PLUGINS=\\[\\\"apoc\\\"\\] \\\n",
    "    neo4j:latest\n",
    "```\n",
    "\n",
    "for windows on anaconda prompt, run below\n",
    "\n",
    "```bash\n",
    "docker run ^\n",
    "   -p 7474:7474 -p 7687:7687 ^\n",
    "   -v \"%CD%/data:/data\" -v \"%CD%/plugins:/plugins\" ^\n",
    "   --name neo4j-apoc ^\n",
    "   -e NEO4J_apoc_export_file_enabled=true ^\n",
    "   -e NEO4J_apoc_import_file_enabled=true ^\n",
    "   -e NEO4J_apoc_import_file_use__neo4j__config=true ^\n",
    "   -e NEO4J_PLUGINS=\"[\\\"apoc\\\"]\" ^\n",
    "   neo4j:latest\n",
    "```\n",
    "Go see your instance at http://localhost:7474/browser/. Default login and password is 'neo4j'.\n",
    "\n",
    "You will be asked to change the password, change it to 'password'.\n"
   ]
  },
  {
   "cell_type": "code",
   "execution_count": 32,
   "metadata": {},
   "outputs": [
    {
     "name": "stderr",
     "output_type": "stream",
     "text": [
      "Received notification from DBMS server: {severity: WARNING} {code: Neo.ClientNotification.Statement.FeatureDeprecationWarning} {category: DEPRECATION} {title: This feature is deprecated and will be removed in future versions.} {description: The procedure has a deprecated field. ('config' used by 'apoc.meta.graphSample' is deprecated.)} {position: line: 1, column: 1, offset: 0} for query: \"CALL apoc.meta.graphSample() YIELD nodes, relationships RETURN nodes, [rel in relationships | {name:apoc.any.property(rel, 'type'), count: apoc.any.property(rel, 'count')}] AS relationships\"\n"
     ]
    }
   ],
   "source": [
    "from llama_index.graph_stores.neo4j import Neo4jPGStore\n",
    "\n",
    "username = \"neo4j\"\n",
    "password = \"password\"\n",
    "url = \"bolt://localhost:7687\"\n",
    "\n",
    "# connect to the graph store\n",
    "graph_store = Neo4jPGStore(username=username, password=password, url=url)"
   ]
  },
  {
   "cell_type": "markdown",
   "metadata": {},
   "source": [
    "## The Workflow Itself\n",
    "With our events defined, we can construct our workflow and steps\n",
    "\n",
    "Note that the workflow automatically validates itself using type annotations, so the type annotations on our steps are very helpful"
   ]
  },
  {
   "cell_type": "code",
   "execution_count": 33,
   "metadata": {},
   "outputs": [],
   "source": [
    "from llama_index.core import SimpleDirectoryReader, VectorStoreIndex\n",
    "from llama_index.core.response_synthesizers import CompactAndRefine\n",
    "from llama_index.core.postprocessor.llm_rerank import LLMRerank\n",
    "from llama_index.core.workflow import (\n",
    "    Context,\n",
    "    Workflow,\n",
    "    StartEvent,\n",
    "    StopEvent,\n",
    "    step,\n",
    ")\n",
    "\n",
    "from llama_index.llms.openai import OpenAI\n",
    "from llama_index.embeddings.openai import OpenAIEmbedding\n",
    "\n",
    "from llama_index.core import SimpleDirectoryReader\n",
    "from llama_index.readers.file import PDFReader\n",
    "\n",
    "\n",
    "class GraphRAGWorkflow(Workflow):\n",
    "    @step(pass_context=True)\n",
    "    async def ingest_docs(self, ctx: Context, ev: StartEvent) -> StopEvent | None:\n",
    "        \"\"\"Ingest the documents\"\"\"\n",
    "        dirpath = ev.get(\"dirpath\")\n",
    "        if not dirpath:\n",
    "            return None\n",
    "        \n",
    "        # docs = SimpleDirectoryReader(dirpath).load_data()\n",
    "\n",
    "        # PDF Reader with `SimpleDirectoryReader`\n",
    "        parser = PDFReader()\n",
    "        file_extractor = {\".pdf\": parser}\n",
    "        docs = SimpleDirectoryReader(\n",
    "            dirpath, file_extractor=file_extractor\n",
    "        ).load_data()\n",
    "\n",
    "\n",
    "        print(f\"ingested {len(docs)} docs\")\n",
    "        return StopEvent(result=docs)\n",
    "        # return StopEvent(result=f\"ingested {len(docs)} docs\")\n",
    "\n",
    "\n",
    "\n",
    "    @step(pass_context=True)\n",
    "    async def index_docs(self, ctx: Context, ev: StartEvent) -> StopEvent | None:\n",
    "        \"\"\"Index the documents dynamically\"\"\"\n",
    "        max_triplets = ev.get(\"max_triplets\")\n",
    "        if not max_triplets:\n",
    "            return None\n",
    "        \n",
    "        docs: List[TextNode] = ctx.data.get(\"docs\", [])\n",
    "        kg_extractor = DynamicLLMPathExtractor(\n",
    "            llm=llm,\n",
    "            max_triplets_per_chunk=max_triplets,\n",
    "            num_workers=4,\n",
    "            allowed_entity_types=None,\n",
    "            allowed_relation_types=None,\n",
    "            allowed_relation_props=None,\n",
    "            allowed_entity_props=None,\n",
    "        )\n",
    "\n",
    "        dynamic_index = PropertyGraphIndex.from_documents(\n",
    "            docs,\n",
    "            llm=llm,\n",
    "            embed_model=embed_model,\n",
    "            property_graph_store=graph_store,\n",
    "            kg_extractors=[kg_extractor],\n",
    "            show_progress=True,\n",
    "        )\n",
    "\n",
    "        return StopEvent(result=dynamic_index)\n",
    "\n",
    "        "
   ]
  },
  {
   "cell_type": "markdown",
   "metadata": {},
   "source": [
    "# Run the workflow"
   ]
  },
  {
   "cell_type": "code",
   "execution_count": 34,
   "metadata": {},
   "outputs": [
    {
     "name": "stderr",
     "output_type": "stream",
     "text": [
      "Ignoring wrong pointing object 14 0 (offset 0)\n",
      "Ignoring wrong pointing object 34 0 (offset 0)\n",
      "Ignoring wrong pointing object 51 0 (offset 0)\n",
      "Ignoring wrong pointing object 67 0 (offset 0)\n",
      "Ignoring wrong pointing object 86 0 (offset 0)\n",
      "Ignoring wrong pointing object 108 0 (offset 0)\n",
      "Ignoring wrong pointing object 127 0 (offset 0)\n",
      "Ignoring wrong pointing object 140 0 (offset 0)\n",
      "Ignoring wrong pointing object 180 0 (offset 0)\n"
     ]
    },
    {
     "name": "stdout",
     "output_type": "stream",
     "text": [
      "Running step index_docs\n",
      "Step index_docs produced no event\n",
      "Running step ingest_docs\n",
      "ingested 46 docs\n",
      "Step ingest_docs produced event StopEvent\n"
     ]
    }
   ],
   "source": [
    "# Ingest the documents\n",
    "\n",
    "w = GraphRAGWorkflow(timeout=120, verbose=True)\n",
    "docs = await w.run(dirpath=\"data/kg_rag_workflow/\")"
   ]
  },
  {
   "cell_type": "code",
   "execution_count": 35,
   "metadata": {},
   "outputs": [
    {
     "name": "stdout",
     "output_type": "stream",
     "text": [
      "docs is type <class 'llama_index.core.schema.Document'>\n",
      "--------------------------------------------------\n",
      "Doc ID: 307571d9-99ad-482a-a9dd-0f5236459522\n",
      "Text: 139 Archivio Italiano di Urologia e Andrologia 2019; 91, 3REVIEW\n",
      "Nutraceutical treatment and prevention  of benign prostatic\n",
      "hyperplasia and prostate cancer  Arrigo F.G. Cicero1, Olta\n",
      "Allkanjari2, Gian Maria Busetto3, Tommaso Cai4, Gaetano Larganà5,\n",
      "Vittorio Magri6, Gianpaolo Perletti7, Francesco Saverio Robustelli\n",
      "Della Cuna8, Giorgio Ivan Russ...\n",
      "--------------------------------------------------\n",
      "Doc ID: 8a43c4a8-11a3-4aa2-b94f-384a8e398dfa\n",
      "Text: Archivio Italiano di Urologia e Andrologia 2019; 91, 3A.F.G.\n",
      "Cicero, O. Allkanjari, G.M. Busetto, et al.\n",
      "140INTRODUCTIONTONUTRACEUTICALPRESCRIPTION (Arrigo F.G. Cicero) During\n",
      "the last years, the pharmaceutical innovation in primary care are\n",
      "dramatically less frequent and will be even more rare in the next\n",
      "future. In this context, pre- clinical...\n"
     ]
    }
   ],
   "source": [
    "# Display the first 2 documents\n",
    "print(f\"docs is type {type(docs[0])}\")\n",
    "for doc in docs[:2]:\n",
    "    print(\"-\" * 50)\n",
    "    print(doc)"
   ]
  },
  {
   "cell_type": "code",
   "execution_count": 36,
   "metadata": {},
   "outputs": [],
   "source": [
    "# dynamic_index = w.run(max_triplets=20, timeout=120, verbose=True)"
   ]
  },
  {
   "cell_type": "code",
   "execution_count": 37,
   "metadata": {},
   "outputs": [],
   "source": [
    "len(docs)\n",
    "type(docs[0])\n",
    "document = docs[0]"
   ]
  },
  {
   "cell_type": "code",
   "execution_count": 38,
   "metadata": {},
   "outputs": [
    {
     "data": {
      "text/plain": [
       "\"139 Archivio Italiano di Urologia e Andrologia 2019; 91, 3REVIEW\\nNutraceutical treatment and prevention \\nof benign prostatic hyperplasia and prostate cancer \\nArrigo F.G. Cicero1, Olta Allkanjari2, Gian Maria Busetto3, Tommaso Cai4, Gaetano Larganà5,\\nVittorio Magri6, Gianpaolo Perletti7, Francesco Saverio Robustelli Della Cuna8, Giorgio Ivan Russo5,\\nKostantinos Stamatiou9, Alberto Trinchieri10, Annabella Vitalone2\\n1 Dip. di Scienze Mediche e Chirurgiche, Alma Mater Studiorum Università di Bologna, Bologna, Italy;\\n2 Dipartimento di Farmacologia e Fisiologia “V. Erspamer”, Sapienza, Università di Roma, Roma, Italy;\\n3 Department of Urology, Sapienza Università di Roma, Policlinico Umberto I, Roma, Italy;\\n4 Department of Urology, Santa Chiara Regional Hospital, Trento, Italy;\\n5 Urology Department, University of Catania, Catania, Italy;\\n6 Ambulatorio Territoriale di Urologia ed Ecograﬁa Urologica, ASST Nord Milano, Milano, Italy;\\n7 Dipartimento di Biotecnologie e Scienze della Vita, Sezione di Scienze Mediche e Chirurgiche, Università degli Studi \\ndell'Insubria, Varese, Italy, and Faculty of Medicine and Medical Sciences, Ghent University, Ghent Belgium;\\n8 Department of Drugs Sciences, University of Pavia, Pavia, Italy;\\n9 Urology Department, Tzaneion Hospital, Piraeus, Greece;\\n10 CDC Ambrosiana Milano, Italy.\\nDuring the last years, pharmaceutical inno-\\nvations in primary care are dramatically\\nless frequent and will be even more rare in the next future. \\nIn this context, preclinical and clinical research oriented their\\ninterest toward natural compounds efﬁcacy and safety, sup-\\nporting the development of a new “nutraceutical” science.\\nMedicinal plants, in the form of plant parts or extracts of\\nthem, are commonly used for the treatment of prostate dis-\\neases such as benign hypertrophy, prostatitis and chronic\\npelvic pain syndrome.\\nThe pharmacological properties searched for the treatment of\\nprostatic diseases are anti-androgenic, anti-estrogenic, anti-\\nproliferative, antioxidant and anti-inﬂammatory. The most\\nstudied and used medicinal plants are Serenoa repens, Pygeum\\nafricanum and Urtica dioica. Other promising plants are\\nCucurbita pepo, Epilobium spp, Lycopersum esculentum,\\nSecale cereale, Roystonea regia, Vaccinium macrocarpon. In\\nparallel, epidemiological studies demonstrated that diet may\\nplay an important role on incidence and development of pro-\\nstatic diseases. The Mediterranean diet is rich of elements with\\nanti-oxidant properties that act as a protective factor for pro-\\nstatic cancer. Similarly, low intake of animal protein, high\\nintake of fruits and vegetable, lycopene and zinc are a protec-\\ntive factor for benign prostatic hyperplasia (BPH).\\nSerenoa repens in the treatment of symptoms of BPH has been\\ntested either alone or, more frequently, in combination with\\nother medicinal plants, alpha-blockers and inhibitors of 5-\\nalpha reductase (5-ARI). Recent meta-analyses found the effec-\\ntiveness of Serenoa repens similar or inferior of that of ﬁnas-\\nteride and tamsulosin but clearly higher than that of placebo\\nin the treatment of mild and moderate low urinary tract symp-\\ntoms (LUTS), nocturia and discomfort. Clinical trials showed\\npotential synergistic effect of Serenoa repens with other medic-\\ninal plants and drugs. In addition to Serenoa repens, there are\\nmany other medicinal plants for which clinical evidence is still\\ncontroversial. Urtica dioica, Pygeum africanum and Curcubita\\npepo can be considered as an adjunct to the common therapies\\nand their use is supported by studies showing improvement of\\nsymptoms and ﬂowmetric indices. Lycopene and selenium areSummary\\nNo conﬂict of interest declared.DOI:10.4081/aiua.2019.3.139\\nnatural products with antioxidant and anti-inﬂammatory\\naction. The combination of lycopene and selenium with\\nSerenoa repens was able to reduce inﬂammation in histologi-\\ncal prostate sections and to further improve symptom scores\\nand urinary ﬂow in patients with BPH on tamsulosin treat-\\nment. Similar effects could be obtained with the use of other\\ncarotenoids, such as astaxanthin, and/or zinc. Efﬁcacy on\\nsymptoms of patients with BPH of some polyphenols such as\\nquercitin, equol and curcumin have been demonstrated by\\nclinical studies. Pollen extract is a mixture of natural compo-\\nnents able to inhibit several cytokines and prostaglandin and\\nleukotriene synthesis resulting in a potent anti-inﬂammatory\\neffect. Pollen extracts signiﬁcantly improve symptoms, pain,\\nand quality of life in patients affected by chronic pelvic pain\\nsyndrome and chronic prostatitis. Beta-sitosterol is a sterol\\nable to improve urinary symptoms and ﬂow measures, but\\nnot to reduce the size of the prostate gland.\\nPalmitoylethanolamide (PEA) is an endogenous fatty acid\\namide-signaling molecule with anti-inﬂammatory and neuro-\\nprotective effects that can have an interesting role in the\\nmanagement of chronic pelvic pain syndrome and chronic\\nurological pain.\\nFinally, several plant-based products have been subjected to\\npreclinical, in vitro and in vivo, investigations for their poten-\\ntial pharmacological activity against prostate cancer. Some\\nepidemiological studies or clinical trials evaluated the effects\\nof beverages, extracts or food preparations on the risk of\\nprostate cancer. Some plant species deserved more intense\\ninvestigation, such as Camelia sinensis (green or black tea),\\nSolanum lycopersicum (common tomato), Punica granatum\\n(pomegranate), Glycine max (common soy) and Linum usi-\\ntatissimum (linen).\\nKEYWORDS:Medicinal plant; Prostate; Benign prostatic\\n hyperplasia; Prostate cancer; Antiproliferative effect; 5α-reduc-\\ntase; Serenoa repens; Pygeum africanum; Urtica dioica;\\nCucurbita pepo; Lycopene; Selenium; Polyphenols; Pollen\\nextract; Beta-sitosterol; Palmitoylethanolamide.\\nSubmitted 1 July 2019; Accepted 25 July 2019Cicero_Stesura Seveso  30/09/19  18:17  Pagina 139\""
      ]
     },
     "execution_count": 38,
     "metadata": {},
     "output_type": "execute_result"
    }
   ],
   "source": [
    "document.text"
   ]
  },
  {
   "cell_type": "code",
   "execution_count": 42,
   "metadata": {},
   "outputs": [
    {
     "name": "stderr",
     "output_type": "stream",
     "text": [
      "/opt/anaconda3/envs/latest_llama/lib/python3.11/site-packages/tqdm/auto.py:21: TqdmWarning: IProgress not found. Please update jupyter and ipywidgets. See https://ipywidgets.readthedocs.io/en/stable/user_install.html\n",
      "  from .autonotebook import tqdm as notebook_tqdm\n",
      "Parsing nodes: 100%|██████████| 1/1 [00:00<00:00, 551.59it/s]\n",
      "Extracting and inferring knowledge graph from text: 100%|██████████| 1/1 [00:18<00:00, 18.38s/it]\n"
     ]
    },
    {
     "data": {
      "text/plain": [
       "[]"
      ]
     },
     "execution_count": 42,
     "metadata": {},
     "output_type": "execute_result"
    }
   ],
   "source": [
    "from llama_index.core import Document, PropertyGraphIndex\n",
    "from llama_index.core.indices.property_graph import (\n",
    "    SimpleLLMPathExtractor,\n",
    "    SchemaLLMPathExtractor,\n",
    "    DynamicLLMPathExtractor,\n",
    ")\n",
    "from llama_index.core import Settings\n",
    "\n",
    "from utils import load_env\n",
    "\n",
    "load_env()\n",
    "# Set up global configurations\n",
    "llm = OpenAI(temperature=0.0, model=\"gpt-3.5-turbo\")\n",
    "\n",
    "Settings.llm = llm\n",
    "Settings.chunk_size = 2048\n",
    "Settings.chunk_overlap = 20\n",
    "\n",
    "\n",
    "kg_extractor = DynamicLLMPathExtractor(\n",
    "    llm=llm,\n",
    "    max_triplets_per_chunk=20,\n",
    "    num_workers=4,\n",
    "    # Let the LLM infer entities and their labels (types) on the fly\n",
    "    allowed_entity_types=None,\n",
    "    # Let the LLM infer relationships on the fly\n",
    "    allowed_relation_types=None,\n",
    "    # LLM will generate any entity properties, set `None` to skip property generation (will be faster without)\n",
    "    allowed_relation_props=[],\n",
    "    # LLM will generate any relation properties, set `None` to skip property generation (will be faster without)\n",
    "    allowed_entity_props=[],\n",
    ")\n",
    "\n",
    "dynamic_index = PropertyGraphIndex.from_documents(\n",
    "    [document],\n",
    "    llm=llm,\n",
    "    embed_kg_nodes=False,\n",
    "    kg_extractors=[kg_extractor],\n",
    "    show_progress=True,\n",
    ")\n",
    "\n",
    "dynamic_index.property_graph_store.save_networkx_graph(\n",
    "    name=\"./DynamicGraph_dev.html\"\n",
    ")\n",
    "\n",
    "dynamic_index.property_graph_store.get_triplets(\n",
    "    entity_names=[\"Barack Obama\", \"Obama\"]\n",
    ")[:5]"
   ]
  },
  {
   "cell_type": "code",
   "execution_count": null,
   "metadata": {},
   "outputs": [],
   "source": []
  }
 ],
 "metadata": {
  "kernelspec": {
   "display_name": "latest_llama",
   "language": "python",
   "name": "python3"
  },
  "language_info": {
   "codemirror_mode": {
    "name": "ipython",
    "version": 3
   },
   "file_extension": ".py",
   "mimetype": "text/x-python",
   "name": "python",
   "nbconvert_exporter": "python",
   "pygments_lexer": "ipython3",
   "version": "3.11.9"
  }
 },
 "nbformat": 4,
 "nbformat_minor": 2
}
