{
 "cells": [
  {
   "cell_type": "code",
   "execution_count": 1,
   "metadata": {},
   "outputs": [],
   "source": [
    "import nest_asyncio\n",
    "\n",
    "nest_asyncio.apply()"
   ]
  },
  {
   "cell_type": "code",
   "execution_count": 2,
   "metadata": {},
   "outputs": [],
   "source": [
    "# !pip install -U llama-index"
   ]
  },
  {
   "cell_type": "code",
   "execution_count": 3,
   "metadata": {},
   "outputs": [],
   "source": [
    "from utils import load_env\n",
    "\n",
    "load_env()"
   ]
  },
  {
   "cell_type": "markdown",
   "metadata": {},
   "source": [
    "# Designing the Workflow TBD\n",
    "\n",
    "RAG + Reranking consists of some clearly defined steps\n",
    "\n",
    "Indexing data, creating an index\n",
    "Using that index + a query to retrieve relevant text chunks\n",
    "Rerank the text retrieved text chunks using the original query\n",
    "Synthesizing a final response\n",
    "With this in mind, we can create events and workflow steps to follow this process!"
   ]
  },
  {
   "cell_type": "code",
   "execution_count": 4,
   "metadata": {},
   "outputs": [],
   "source": [
    "# TBD\n",
    "from llama_index.core.workflow import Event\n",
    "from llama_index.core.schema import NodeWithScore\n",
    "\n",
    "\n",
    "class RetrieverEvent(Event):\n",
    "    \"\"\"Result of running retrieval\"\"\"\n",
    "\n",
    "    nodes: list[NodeWithScore]\n",
    "\n",
    "\n",
    "class RerankEvent(Event):\n",
    "    \"\"\"Result of running reranking on retrieved nodes\"\"\"\n",
    "\n",
    "    nodes: list[NodeWithScore]"
   ]
  },
  {
   "cell_type": "markdown",
   "metadata": {},
   "source": [
    "# Workflow components"
   ]
  },
  {
   "cell_type": "markdown",
   "metadata": {},
   "source": [
    "## local neo4j docker instance\n",
    "\n",
    "\n",
    "for mac or linux, use below\n",
    "```bash\n",
    "docker run \\\n",
    "    -p 7474:7474 -p 7687:7687 \\\n",
    "    -v $PWD/data:/data -v $PWD/plugins:/plugins \\\n",
    "    --name neo4j-apoc \\\n",
    "    -e NEO4J_apoc_export_file_enabled=true \\\n",
    "    -e NEO4J_apoc_import_file_enabled=true \\\n",
    "    -e NEO4J_apoc_import_file_use__neo4j__config=true \\\n",
    "    -e NEO4JLABS_PLUGINS=\\[\\\"apoc\\\"\\] \\\n",
    "    neo4j:latest\n",
    "```\n",
    "\n",
    "for windows on anaconda prompt, run below\n",
    "\n",
    "```bash\n",
    "docker run ^\n",
    "   -p 7474:7474 -p 7687:7687 ^\n",
    "   -v \"%CD%/data:/data\" -v \"%CD%/plugins:/plugins\" ^\n",
    "   --name neo4j-apoc ^\n",
    "   -e NEO4J_apoc_export_file_enabled=true ^\n",
    "   -e NEO4J_apoc_import_file_enabled=true ^\n",
    "   -e NEO4J_apoc_import_file_use__neo4j__config=true ^\n",
    "   -e NEO4JLABS_PLUGINS=\"[\\\"apoc\\\"]\" ^\n",
    "   neo4j:latest\n",
    "```\n",
    "Go see your instance at http://localhost:7474/browser/. Default login and password is 'neo4j'.\n",
    "\n",
    "You will be asked to change the password, change it to 'password'.\n"
   ]
  },
  {
   "cell_type": "code",
   "execution_count": 5,
   "metadata": {},
   "outputs": [
    {
     "name": "stderr",
     "output_type": "stream",
     "text": [
      "Received notification from DBMS server: {severity: WARNING} {code: Neo.ClientNotification.Statement.FeatureDeprecationWarning} {category: DEPRECATION} {title: This feature is deprecated and will be removed in future versions.} {description: The procedure has a deprecated field. ('config' used by 'apoc.meta.graphSample' is deprecated.)} {position: line: 1, column: 1, offset: 0} for query: \"CALL apoc.meta.graphSample() YIELD nodes, relationships RETURN nodes, [rel in relationships | {name:apoc.any.property(rel, 'type'), count: apoc.any.property(rel, 'count')}] AS relationships\"\n"
     ]
    }
   ],
   "source": [
    "from llama_index.graph_stores.neo4j import Neo4jPGStore\n",
    "\n",
    "username = \"neo4j\"\n",
    "password = \"password\"\n",
    "url = \"bolt://localhost:7687\"\n",
    "\n",
    "# connect to the graph store\n",
    "graph_store = Neo4jPGStore(username=username, password=password, url=url)"
   ]
  },
  {
   "cell_type": "markdown",
   "metadata": {},
   "source": [
    "## The Workflow Itself\n",
    "With our events defined, we can construct our workflow and steps\n",
    "\n",
    "Note that the workflow automatically validates itself using type annotations, so the type annotations on our steps are very helpful"
   ]
  },
  {
   "cell_type": "code",
   "execution_count": 6,
   "metadata": {},
   "outputs": [],
   "source": [
    "from llama_index.core.schema import TextNode\n",
    "from typing import List\n",
    "import json\n",
    "\n",
    "# helper functions\n",
    "def get_text_nodes(json_list: List[dict]):\n",
    "    text_nodes = []\n",
    "    for idx, page in enumerate(json_list):\n",
    "        text_node = TextNode(text=page[\"md\"], metadata={\"page\": page[\"page\"]})\n",
    "        text_nodes.append(text_node)\n",
    "    return text_nodes\n",
    "\n",
    "\n",
    "def save_jsonl(data_list, filename):\n",
    "    \"\"\"Save a list of dictionaries as JSON Lines.\"\"\"\n",
    "    with open(filename, \"w\") as file:\n",
    "        for item in data_list:\n",
    "            json.dump(item, file)\n",
    "            file.write(\"\\n\")\n",
    "\n",
    "\n",
    "def load_jsonl(filename):\n",
    "    \"\"\"Load a list of dictionaries from JSON Lines.\"\"\"\n",
    "    data_list = []\n",
    "    with open(filename, \"r\") as file:\n",
    "        for line in file:\n",
    "            data_list.append(json.loads(line))\n",
    "    return data_list"
   ]
  },
  {
   "cell_type": "code",
   "execution_count": 7,
   "metadata": {},
   "outputs": [],
   "source": [
    "from llama_index.core import SimpleDirectoryReader, VectorStoreIndex\n",
    "from llama_index.core.response_synthesizers import CompactAndRefine\n",
    "from llama_index.core.postprocessor.llm_rerank import LLMRerank\n",
    "from llama_index.core.workflow import (\n",
    "    Context,\n",
    "    Workflow,\n",
    "    StartEvent,\n",
    "    StopEvent,\n",
    "    step,\n",
    ")\n",
    "\n",
    "from llama_index.llms.openai import OpenAI\n",
    "from llama_index.embeddings.openai import OpenAIEmbedding\n",
    "\n",
    "from llama_index.core import SimpleDirectoryReader\n",
    "\n",
    "\n",
    "class GraphRAGWorkflow(Workflow):\n",
    "    @step(pass_context=True)\n",
    "    async def ingest_docs(self, ctx: Context, ev: StartEvent) -> StopEvent | None:\n",
    "        \"\"\"Ingest the documents using LlamaParse\"\"\"\n",
    "        dirpath = ev.get(\"dirpath\")\n",
    "        if not dirpath:\n",
    "            return None\n",
    "        \n",
    "        docs = SimpleDirectoryReader(dirpath).load_data()\n",
    "        print(f\"ingested {len(docs)} docs\")\n",
    "        return StopEvent(result=docs)\n",
    "        # return StopEvent(result=f\"ingested {len(docs)} docs\")\n",
    "\n",
    "\n",
    "\n",
    "    @step(pass_context=True)\n",
    "    async def index_docs(self, ctx: Context, ev: StartEvent) -> StopEvent | None:\n",
    "        \"\"\"Index the documents dynamically\"\"\"\n",
    "        max_triplets = ev.get(\"max_triplets\")\n",
    "        if not max_triplets:\n",
    "            return None\n",
    "        \n",
    "        docs: List[TextNode] = ctx.data.get(\"docs\", [])\n",
    "        kg_extractor = DynamicLLMPathExtractor(\n",
    "            llm=llm,\n",
    "            max_triplets_per_chunk=max_triplets,\n",
    "            num_workers=4,\n",
    "            allowed_entity_types=None,\n",
    "            allowed_relation_types=None,\n",
    "            allowed_relation_props=None,\n",
    "            allowed_entity_props=None,\n",
    "        )\n",
    "\n",
    "        dynamic_index = PropertyGraphIndex.from_documents(\n",
    "            docs,\n",
    "            llm=llm,\n",
    "            embed_model=embed_model,\n",
    "            property_graph_store=graph_store,\n",
    "            kg_extractors=[kg_extractor],\n",
    "            show_progress=True,\n",
    "        )\n",
    "\n",
    "        return StopEvent(result=dynamic_index)\n",
    "\n",
    "        "
   ]
  },
  {
   "cell_type": "markdown",
   "metadata": {},
   "source": [
    "# Run the workflow"
   ]
  },
  {
   "cell_type": "code",
   "execution_count": 9,
   "metadata": {},
   "outputs": [
    {
     "name": "stderr",
     "output_type": "stream",
     "text": [
      "Ignoring wrong pointing object 14 0 (offset 0)\n",
      "Ignoring wrong pointing object 34 0 (offset 0)\n",
      "Ignoring wrong pointing object 51 0 (offset 0)\n",
      "Ignoring wrong pointing object 67 0 (offset 0)\n",
      "Ignoring wrong pointing object 86 0 (offset 0)\n",
      "Ignoring wrong pointing object 108 0 (offset 0)\n",
      "Ignoring wrong pointing object 127 0 (offset 0)\n",
      "Ignoring wrong pointing object 140 0 (offset 0)\n",
      "Ignoring wrong pointing object 180 0 (offset 0)\n"
     ]
    },
    {
     "name": "stdout",
     "output_type": "stream",
     "text": [
      "Running step index_docs\n",
      "Step index_docs produced no event\n",
      "Running step ingest_docs\n",
      "ingested 46 docs\n",
      "Step ingest_docs produced event StopEvent\n"
     ]
    }
   ],
   "source": [
    "# Ingest the documents\n",
    "\n",
    "w = GraphRAGWorkflow(timeout=120, verbose=True)\n",
    "docs = await w.run(dirpath=\"data/kg_rag_workflow/\")"
   ]
  },
  {
   "cell_type": "code",
   "execution_count": 18,
   "metadata": {},
   "outputs": [
    {
     "name": "stdout",
     "output_type": "stream",
     "text": [
      "docs is type <class 'llama_index.core.schema.Document'>\n",
      "--------------------------------------------------\n",
      "Doc ID: 349cafba-c028-4bf4-a27a-ae90183322f9\n",
      "Text: 139 Archivio Italiano di Urologia e Andrologia 2019; 91, 3REVIEW\n",
      "Nutraceutical treatment and prevention  of benign prostatic\n",
      "hyperplasia and prostate cancer  Arrigo F.G. Cicero1, Olta\n",
      "Allkanjari2, Gian Maria Busetto3, Tommaso Cai4, Gaetano Larganà5,\n",
      "Vittorio Magri6, Gianpaolo Perletti7, Francesco Saverio Robustelli\n",
      "Della Cuna8, Giorgio Ivan Russ...\n",
      "--------------------------------------------------\n",
      "Doc ID: 84232ada-e846-4d26-ad74-dd321ead2b27\n",
      "Text: Archivio Italiano di Urologia e Andrologia 2019; 91, 3A.F.G.\n",
      "Cicero, O. Allkanjari, G.M. Busetto, et al.\n",
      "140INTRODUCTIONTONUTRACEUTICALPRESCRIPTION (Arrigo F.G. Cicero) During\n",
      "the last years, the pharmaceutical innovation in primary care are\n",
      "dramatically less frequent and will be even more rare in the next\n",
      "future. In this context, pre- clinical...\n"
     ]
    }
   ],
   "source": [
    "# Display the first 2 documents\n",
    "print(f\"docs is type {type(docs[0])}\")\n",
    "for doc in docs[:2]:\n",
    "    print(\"-\" * 50)\n",
    "    print(doc)"
   ]
  },
  {
   "cell_type": "code",
   "execution_count": 11,
   "metadata": {},
   "outputs": [],
   "source": [
    "# dynamic_index = w.run(max_triplets=20, timeout=120, verbose=True)"
   ]
  },
  {
   "cell_type": "code",
   "execution_count": 19,
   "metadata": {},
   "outputs": [
    {
     "data": {
      "text/plain": [
       "llama_index.core.schema.Document"
      ]
     },
     "execution_count": 19,
     "metadata": {},
     "output_type": "execute_result"
    }
   ],
   "source": [
    "len(docs)\n",
    "type(docs[0])"
   ]
  },
  {
   "cell_type": "code",
   "execution_count": 23,
   "metadata": {},
   "outputs": [
    {
     "name": "stderr",
     "output_type": "stream",
     "text": [
      "Parsing nodes: 100%|██████████| 46/46 [00:00<00:00, 376.79it/s]\n",
      "Extracting and inferring knowledge graph from text:   7%|▋         | 7/98 [00:31<05:47,  3.82s/it]"
     ]
    }
   ],
   "source": [
    "from llama_index.core.indices.property_graph import DynamicLLMPathExtractor\n",
    "from llama_index.core import PropertyGraphIndex\n",
    "\n",
    "llm = OpenAI(model=\"gpt-4o-mini\", temperature=0.0)\n",
    "embed_model = OpenAIEmbedding(model=\"text-embedding-3-small\")\n",
    "\n",
    "\n",
    "kg_extractor = DynamicLLMPathExtractor(\n",
    "    llm=llm,\n",
    "    max_triplets_per_chunk=20,\n",
    "    num_workers=4,\n",
    "    allowed_entity_types=[\"MEDICINAL_PLANT\", \"COMPOUND\", \"SYMPTOM\", \"TREATMENT\", \"DISEASE\", \"STUDY_TYPE\"],\n",
    "    allowed_relation_types=[\"TREATS\", \"CONTAINS\", \"ALLEVIATES\", \"STUDIED_IN\", \"SIDE_EFFECT_OF\", \"INTERACTS_WITH\"],\n",
    "    allowed_relation_props=[\"efficacy\", \"dosage\"],\n",
    "    allowed_entity_props=[\"scientific_name\", \"common_name\", \"description\"]\n",
    ")\n",
    "\n",
    "dynamic_index = PropertyGraphIndex.from_documents(\n",
    "            docs,\n",
    "            llm=llm,\n",
    "            embed_model=embed_model,\n",
    "            property_graph_store=graph_store,\n",
    "            kg_extractors=[kg_extractor],\n",
    "            show_progress=True,\n",
    "        )"
   ]
  },
  {
   "cell_type": "code",
   "execution_count": 21,
   "metadata": {},
   "outputs": [
    {
     "name": "stderr",
     "output_type": "stream",
     "text": [
      "Received notification from DBMS server: {severity: WARNING} {code: Neo.ClientNotification.Statement.UnknownPropertyKeyWarning} {category: UNRECOGNIZED} {title: The provided property key is not in the database} {description: One of the property names in your query is not available in the database, make sure you didn't misspell it or that the label is available when you run this statement in your application (the missing property name is: name)} {position: line: 14, column: 22, offset: 616} for query: \"MATCH (e:`__Entity__`) \\n        WITH e\\n        CALL {\\n            WITH e\\n            MATCH (e)-[r]->(t:__Entity__)\\n            RETURN e.name AS source_id, [l in labels(e) WHERE l <> '__Entity__' | l][0] AS source_type,\\n                   e{.* , embedding: Null, name: Null} AS source_properties,\\n                   type(r) AS type,\\n                   t.name AS target_id, [l in labels(t) WHERE l <> '__Entity__' | l][0] AS target_type,\\n                   t{.* , embedding: Null, name: Null} AS target_properties\\n            UNION ALL\\n            WITH e\\n            MATCH (e)<-[r]-(t:__Entity__)\\n            RETURN t.name AS source_id, [l in labels(t) WHERE l <> '__Entity__' | l][0] AS source_type,\\n                   e{.* , embedding: Null, name: Null} AS source_properties,\\n                   type(r) AS type,\\n                   e.name AS target_id, [l in labels(e) WHERE l <> '__Entity__' | l][0] AS target_type,\\n                   t{.* , embedding: Null, name: Null} AS target_properties\\n        }\\n        RETURN source_id, source_type, type, target_id, target_type, source_properties, target_properties\"\n",
      "Received notification from DBMS server: {severity: WARNING} {code: Neo.ClientNotification.Statement.UnknownLabelWarning} {category: UNRECOGNIZED} {title: The provided label is not in the database.} {description: One of the labels in your query is not available in the database, make sure you didn't misspell it or that the label is available when you run this statement in your application (the missing label name is: __Entity__)} {position: line: 13, column: 31, offset: 583} for query: \"MATCH (e:`__Entity__`) \\n        WITH e\\n        CALL {\\n            WITH e\\n            MATCH (e)-[r]->(t:__Entity__)\\n            RETURN e.name AS source_id, [l in labels(e) WHERE l <> '__Entity__' | l][0] AS source_type,\\n                   e{.* , embedding: Null, name: Null} AS source_properties,\\n                   type(r) AS type,\\n                   t.name AS target_id, [l in labels(t) WHERE l <> '__Entity__' | l][0] AS target_type,\\n                   t{.* , embedding: Null, name: Null} AS target_properties\\n            UNION ALL\\n            WITH e\\n            MATCH (e)<-[r]-(t:__Entity__)\\n            RETURN t.name AS source_id, [l in labels(t) WHERE l <> '__Entity__' | l][0] AS source_type,\\n                   e{.* , embedding: Null, name: Null} AS source_properties,\\n                   type(r) AS type,\\n                   e.name AS target_id, [l in labels(e) WHERE l <> '__Entity__' | l][0] AS target_type,\\n                   t{.* , embedding: Null, name: Null} AS target_properties\\n        }\\n        RETURN source_id, source_type, type, target_id, target_type, source_properties, target_properties\"\n",
      "Received notification from DBMS server: {severity: WARNING} {code: Neo.ClientNotification.Statement.UnknownLabelWarning} {category: UNRECOGNIZED} {title: The provided label is not in the database.} {description: One of the labels in your query is not available in the database, make sure you didn't misspell it or that the label is available when you run this statement in your application (the missing label name is: __Entity__)} {position: line: 5, column: 31, offset: 103} for query: \"MATCH (e:`__Entity__`) \\n        WITH e\\n        CALL {\\n            WITH e\\n            MATCH (e)-[r]->(t:__Entity__)\\n            RETURN e.name AS source_id, [l in labels(e) WHERE l <> '__Entity__' | l][0] AS source_type,\\n                   e{.* , embedding: Null, name: Null} AS source_properties,\\n                   type(r) AS type,\\n                   t.name AS target_id, [l in labels(t) WHERE l <> '__Entity__' | l][0] AS target_type,\\n                   t{.* , embedding: Null, name: Null} AS target_properties\\n            UNION ALL\\n            WITH e\\n            MATCH (e)<-[r]-(t:__Entity__)\\n            RETURN t.name AS source_id, [l in labels(t) WHERE l <> '__Entity__' | l][0] AS source_type,\\n                   e{.* , embedding: Null, name: Null} AS source_properties,\\n                   type(r) AS type,\\n                   e.name AS target_id, [l in labels(e) WHERE l <> '__Entity__' | l][0] AS target_type,\\n                   t{.* , embedding: Null, name: Null} AS target_properties\\n        }\\n        RETURN source_id, source_type, type, target_id, target_type, source_properties, target_properties\"\n",
      "Received notification from DBMS server: {severity: WARNING} {code: Neo.ClientNotification.Statement.UnknownLabelWarning} {category: UNRECOGNIZED} {title: The provided label is not in the database.} {description: One of the labels in your query is not available in the database, make sure you didn't misspell it or that the label is available when you run this statement in your application (the missing label name is: __Entity__)} {position: line: 1, column: 10, offset: 9} for query: \"MATCH (e:`__Entity__`) \\n        WITH e\\n        CALL {\\n            WITH e\\n            MATCH (e)-[r]->(t:__Entity__)\\n            RETURN e.name AS source_id, [l in labels(e) WHERE l <> '__Entity__' | l][0] AS source_type,\\n                   e{.* , embedding: Null, name: Null} AS source_properties,\\n                   type(r) AS type,\\n                   t.name AS target_id, [l in labels(t) WHERE l <> '__Entity__' | l][0] AS target_type,\\n                   t{.* , embedding: Null, name: Null} AS target_properties\\n            UNION ALL\\n            WITH e\\n            MATCH (e)<-[r]-(t:__Entity__)\\n            RETURN t.name AS source_id, [l in labels(t) WHERE l <> '__Entity__' | l][0] AS source_type,\\n                   e{.* , embedding: Null, name: Null} AS source_properties,\\n                   type(r) AS type,\\n                   e.name AS target_id, [l in labels(e) WHERE l <> '__Entity__' | l][0] AS target_type,\\n                   t{.* , embedding: Null, name: Null} AS target_properties\\n        }\\n        RETURN source_id, source_type, type, target_id, target_type, source_properties, target_properties\"\n",
      "Received notification from DBMS server: {severity: WARNING} {code: Neo.ClientNotification.Statement.UnknownPropertyKeyWarning} {category: UNRECOGNIZED} {title: The provided property key is not in the database} {description: One of the property names in your query is not available in the database, make sure you didn't misspell it or that the label is available when you run this statement in your application (the missing property name is: name)} {position: line: 17, column: 22, offset: 833} for query: \"MATCH (e:`__Entity__`) \\n        WITH e\\n        CALL {\\n            WITH e\\n            MATCH (e)-[r]->(t:__Entity__)\\n            RETURN e.name AS source_id, [l in labels(e) WHERE l <> '__Entity__' | l][0] AS source_type,\\n                   e{.* , embedding: Null, name: Null} AS source_properties,\\n                   type(r) AS type,\\n                   t.name AS target_id, [l in labels(t) WHERE l <> '__Entity__' | l][0] AS target_type,\\n                   t{.* , embedding: Null, name: Null} AS target_properties\\n            UNION ALL\\n            WITH e\\n            MATCH (e)<-[r]-(t:__Entity__)\\n            RETURN t.name AS source_id, [l in labels(t) WHERE l <> '__Entity__' | l][0] AS source_type,\\n                   e{.* , embedding: Null, name: Null} AS source_properties,\\n                   type(r) AS type,\\n                   e.name AS target_id, [l in labels(e) WHERE l <> '__Entity__' | l][0] AS target_type,\\n                   t{.* , embedding: Null, name: Null} AS target_properties\\n        }\\n        RETURN source_id, source_type, type, target_id, target_type, source_properties, target_properties\"\n",
      "Received notification from DBMS server: {severity: WARNING} {code: Neo.ClientNotification.Statement.UnknownPropertyKeyWarning} {category: UNRECOGNIZED} {title: The provided property key is not in the database} {description: One of the property names in your query is not available in the database, make sure you didn't misspell it or that the label is available when you run this statement in your application (the missing property name is: name)} {position: line: 6, column: 22, offset: 136} for query: \"MATCH (e:`__Entity__`) \\n        WITH e\\n        CALL {\\n            WITH e\\n            MATCH (e)-[r]->(t:__Entity__)\\n            RETURN e.name AS source_id, [l in labels(e) WHERE l <> '__Entity__' | l][0] AS source_type,\\n                   e{.* , embedding: Null, name: Null} AS source_properties,\\n                   type(r) AS type,\\n                   t.name AS target_id, [l in labels(t) WHERE l <> '__Entity__' | l][0] AS target_type,\\n                   t{.* , embedding: Null, name: Null} AS target_properties\\n            UNION ALL\\n            WITH e\\n            MATCH (e)<-[r]-(t:__Entity__)\\n            RETURN t.name AS source_id, [l in labels(t) WHERE l <> '__Entity__' | l][0] AS source_type,\\n                   e{.* , embedding: Null, name: Null} AS source_properties,\\n                   type(r) AS type,\\n                   e.name AS target_id, [l in labels(e) WHERE l <> '__Entity__' | l][0] AS target_type,\\n                   t{.* , embedding: Null, name: Null} AS target_properties\\n        }\\n        RETURN source_id, source_type, type, target_id, target_type, source_properties, target_properties\"\n",
      "Received notification from DBMS server: {severity: WARNING} {code: Neo.ClientNotification.Statement.UnknownPropertyKeyWarning} {category: UNRECOGNIZED} {title: The provided property key is not in the database} {description: One of the property names in your query is not available in the database, make sure you didn't misspell it or that the label is available when you run this statement in your application (the missing property name is: name)} {position: line: 9, column: 22, offset: 353} for query: \"MATCH (e:`__Entity__`) \\n        WITH e\\n        CALL {\\n            WITH e\\n            MATCH (e)-[r]->(t:__Entity__)\\n            RETURN e.name AS source_id, [l in labels(e) WHERE l <> '__Entity__' | l][0] AS source_type,\\n                   e{.* , embedding: Null, name: Null} AS source_properties,\\n                   type(r) AS type,\\n                   t.name AS target_id, [l in labels(t) WHERE l <> '__Entity__' | l][0] AS target_type,\\n                   t{.* , embedding: Null, name: Null} AS target_properties\\n            UNION ALL\\n            WITH e\\n            MATCH (e)<-[r]-(t:__Entity__)\\n            RETURN t.name AS source_id, [l in labels(t) WHERE l <> '__Entity__' | l][0] AS source_type,\\n                   e{.* , embedding: Null, name: Null} AS source_properties,\\n                   type(r) AS type,\\n                   e.name AS target_id, [l in labels(e) WHERE l <> '__Entity__' | l][0] AS target_type,\\n                   t{.* , embedding: Null, name: Null} AS target_properties\\n        }\\n        RETURN source_id, source_type, type, target_id, target_type, source_properties, target_properties\"\n"
     ]
    },
    {
     "data": {
      "text/plain": [
       "[]"
      ]
     },
     "execution_count": 21,
     "metadata": {},
     "output_type": "execute_result"
    }
   ],
   "source": [
    "dynamic_index.property_graph_store.get_triplets()"
   ]
  },
  {
   "cell_type": "code",
   "execution_count": null,
   "metadata": {},
   "outputs": [],
   "source": []
  }
 ],
 "metadata": {
  "kernelspec": {
   "display_name": "latest_llama",
   "language": "python",
   "name": "python3"
  },
  "language_info": {
   "codemirror_mode": {
    "name": "ipython",
    "version": 3
   },
   "file_extension": ".py",
   "mimetype": "text/x-python",
   "name": "python",
   "nbconvert_exporter": "python",
   "pygments_lexer": "ipython3",
   "version": "3.11.9"
  }
 },
 "nbformat": 4,
 "nbformat_minor": 2
}
