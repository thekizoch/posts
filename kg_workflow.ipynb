{
 "cells": [
  {
   "cell_type": "code",
   "execution_count": 1,
   "metadata": {},
   "outputs": [],
   "source": [
    "import nest_asyncio\n",
    "\n",
    "nest_asyncio.apply()"
   ]
  },
  {
   "cell_type": "code",
   "execution_count": 2,
   "metadata": {},
   "outputs": [],
   "source": [
    "# !pip install -U llama-index"
   ]
  },
  {
   "cell_type": "code",
   "execution_count": 3,
   "metadata": {},
   "outputs": [],
   "source": [
    "from utils import load_env\n",
    "\n",
    "load_env()"
   ]
  },
  {
   "cell_type": "markdown",
   "metadata": {},
   "source": [
    "# Designing the Workflow TBD\n",
    "\n",
    "RAG + Reranking consists of some clearly defined steps\n",
    "\n",
    "Indexing data, creating an index\n",
    "Using that index + a query to retrieve relevant text chunks\n",
    "Rerank the text retrieved text chunks using the original query\n",
    "Synthesizing a final response\n",
    "With this in mind, we can create events and workflow steps to follow this process!"
   ]
  },
  {
   "cell_type": "code",
   "execution_count": 4,
   "metadata": {},
   "outputs": [],
   "source": [
    "# TBD\n",
    "from llama_index.core.workflow import Event\n",
    "from llama_index.core.schema import NodeWithScore\n",
    "\n",
    "\n",
    "class RetrieverEvent(Event):\n",
    "    \"\"\"Result of running retrieval\"\"\"\n",
    "\n",
    "    nodes: list[NodeWithScore]\n",
    "\n",
    "\n",
    "class RerankEvent(Event):\n",
    "    \"\"\"Result of running reranking on retrieved nodes\"\"\"\n",
    "\n",
    "    nodes: list[NodeWithScore]"
   ]
  },
  {
   "cell_type": "markdown",
   "metadata": {},
   "source": [
    "### The Workflow Itself,\n",
    "With our events defined, we can construct our workflow and steps\n",
    "\n",
    "Note that the workflow automatically validates itself using type annotations, so the type annotations on our steps are very helpful"
   ]
  },
  {
   "cell_type": "code",
   "execution_count": 5,
   "metadata": {},
   "outputs": [],
   "source": [
    "from llama_index.core.schema import TextNode\n",
    "from typing import List\n",
    "import json\n",
    "\n",
    "# helper functions\n",
    "def get_text_nodes(json_list: List[dict]):\n",
    "    text_nodes = []\n",
    "    for idx, page in enumerate(json_list):\n",
    "        text_node = TextNode(text=page[\"md\"], metadata={\"page\": page[\"page\"]})\n",
    "        text_nodes.append(text_node)\n",
    "    return text_nodes\n",
    "\n",
    "\n",
    "def save_jsonl(data_list, filename):\n",
    "    \"\"\"Save a list of dictionaries as JSON Lines.\"\"\"\n",
    "    with open(filename, \"w\") as file:\n",
    "        for item in data_list:\n",
    "            json.dump(item, file)\n",
    "            file.write(\"\\n\")\n",
    "\n",
    "\n",
    "def load_jsonl(filename):\n",
    "    \"\"\"Load a list of dictionaries from JSON Lines.\"\"\"\n",
    "    data_list = []\n",
    "    with open(filename, \"r\") as file:\n",
    "        for line in file:\n",
    "            data_list.append(json.loads(line))\n",
    "    return data_list"
   ]
  },
  {
   "cell_type": "code",
   "execution_count": 6,
   "metadata": {},
   "outputs": [],
   "source": [
    "from llama_index.core import SimpleDirectoryReader, VectorStoreIndex\n",
    "from llama_index.core.response_synthesizers import CompactAndRefine\n",
    "from llama_index.core.postprocessor.llm_rerank import LLMRerank\n",
    "from llama_index.core.workflow import (\n",
    "    Context,\n",
    "    Workflow,\n",
    "    StartEvent,\n",
    "    StopEvent,\n",
    "    step,\n",
    ")\n",
    "\n",
    "from llama_index.llms.openai import OpenAI\n",
    "from llama_index.embeddings.openai import OpenAIEmbedding\n",
    "\n",
    "from llama_parse import LlamaParse\n",
    "\n",
    "\n",
    "class GraphRAGWorkflow(Workflow):\n",
    "    @step(pass_context=True)\n",
    "    async def ingest(self, ctx: Context, ev: StartEvent) -> StopEvent | None:\n",
    "        \"\"\"Ingest the documents using LlamaParse\"\"\"\n",
    "        filepath = ev.get(\"filepath\")\n",
    "        if not filepath:\n",
    "            return None\n",
    "        \n",
    "        parser = LlamaParse(\n",
    "            result_type=\"markdown\",\n",
    "            use_vendor_multimodal_model=True,\n",
    "            vendor_multimodal_model_name=\"openai-gpt-4o-mini\",\n",
    "            invalidate_cache=True,\n",
    "        )\n",
    "        json_objs = parser.get_json_result(filepath)\n",
    "        json_list = json_objs[0][\"pages\"]\n",
    "        docs = get_text_nodes(json_list)\n",
    "        ctx.data[\"docs\"] = docs\n",
    "\n",
    "        return StopEvent(result=f\"ingested {len(docs)} docs.\")\n",
    "\n",
    "    @step(pass_context=True)\n",
    "    async def display_docs(self, ctx: Context, ev: StartEvent) -> StopEvent | None:\n",
    "        \"\"\"Display parsed documents.\"\"\"\n",
    "        num_docs = ev.get(\"num_docs\")\n",
    "        if not num_docs:\n",
    "            return None\n",
    "        \n",
    "        docs: List[TextNode] = ctx.data.get(\"docs\", [])\n",
    "        if not docs:\n",
    "            return StopEvent(result=\"No documents found. Please ingest documents first.\")\n",
    "        \n",
    "        displayed_docs = []\n",
    "        for i in range(min(num_docs, len(docs))):\n",
    "            doc = docs[i]\n",
    "            displayed_docs.append({\n",
    "                \"content\": doc.get_content(metadata_mode=\"all\")\n",
    "            })\n",
    "\n",
    "        return StopEvent(result=displayed_docs)\n",
    "\n",
    "        "
   ]
  },
  {
   "cell_type": "markdown",
   "metadata": {},
   "source": [
    "# Run the workflow"
   ]
  },
  {
   "cell_type": "code",
   "execution_count": 7,
   "metadata": {},
   "outputs": [
    {
     "name": "stdout",
     "output_type": "stream",
     "text": [
      "Running step display_docs\n",
      "Step display_docs produced no event\n",
      "Running step ingest\n",
      "Started parsing the file under job_id 701d6299-d2c6-4e40-9aae-4178a0d1ed3b\n",
      "Step ingest produced event StopEvent\n"
     ]
    },
    {
     "data": {
      "text/plain": [
       "'ingested 14 docs.'"
      ]
     },
     "execution_count": 7,
     "metadata": {},
     "output_type": "execute_result"
    }
   ],
   "source": [
    "# Ingest the documents\n",
    "\n",
    "w = GraphRAGWorkflow(timeout=120, verbose=True)\n",
    "await w.run(filepath=\"data/bph-review-2019.pdf\")"
   ]
  },
  {
   "cell_type": "code",
   "execution_count": 10,
   "metadata": {},
   "outputs": [
    {
     "name": "stdout",
     "output_type": "stream",
     "text": [
      "Running step display_docs\n",
      "Step display_docs produced event StopEvent\n",
      "Running step ingest\n",
      "Step ingest produced no event\n",
      "page: 1\n",
      "\n",
      "# Nutraceutical treatment and prevention of benign prostatic hyperplasia and prostate cancer\n",
      "\n",
      "## Arrigo F.G. Cicero¹, Olla Allkanjari², Gian Maria Busetto³, Tommaso Cai⁴, Gaetano Largana⁵, Vittorio Magri⁶, Gianpaolo Fertiletti⁷, Francesco Saverio Robustelli Della Cuna⁸, Giorgio Ivan Russo⁵, Konstantinos Stamataki⁹, Alberto Trinchieri¹⁰, Annabella Vitalone²\n",
      "\n",
      "### Summary\n",
      "During the last years, pharmaceutical innovations in primary care are dramatically less frequent and will be even more rare in the next future. In this context, preclinical and clinical research oriented their interests toward natural compounds efficacy and safety, supporting the development of a new \"nutraceutical\" science. Medicinal plants, in the form of powders or extracts of them, are continuously used for the treatment of prostate diseases such as benign hyperplasia, prostatitis and chronic pelvic pain syndrome.\n",
      "\n",
      "The pharmacological properties ascribed to these medicinal plants are anti-androgenic, anti-estrogenic, anti-inflammatory, antioxidant and anti-microbial. The most studied and used medicinal plants are Serenoa repens, Pygeum africanum and Urtica dioica. Other promising plants are Catuaba (Erythroxylum spp.), Passiflora edulis, Scutellaria scale, Roystonea regia, Vaccinium macrocarpon. In addition, epidemiological studies demonstrated that diet may play an important role in incidence and development of prostatic diseases. The Mediterranean diet is rich in elements with nutritional properties that act as a protective factor for prostatic cancer. Similarly, low intake of animal protein, high intake of fruits and vegetable, lycopene and zinc are a protective factor for benign prostatic hyperplasia (BPH).\n",
      "\n",
      "Serenoa repens in the treatment of symptoms of BPH has been tested either alone or, more frequently, in combination with other medicinal plants, alpha-blockers and inhibitors of 5-alpha reductase (5-ARD). Recent meta-analyses found the effectiveness of Serenoa repens similar or inferior to that of plants entered in treatment of mild and moderate low urinary tract symptoms (LUTS), nocturia and discomfort. Clinical trials showed potential synergistic effect of Serenoa repens with other medicines and drugs. In addition to Serenoa repens, there are many other medicinal plants for which clinical evidence is controversial. Urtica dioica, Pygeum africanum and Catuaba can be considered as adjunct to the common therapies and their use is supported by studies showing improvement of symptoms and biometric indices. Lycopene and selenium are natural products with antioxidant and anti-inflammatory action. The combination of lycopene and selenium with Serenoa repens was able to reduce inflammation in histological sections and to further improve symptom scores and urinary flow in patients with BPH on castration treatment. Similar effects could be obtained with the use of other carotenoids, such as astaxanthin, and/or zinc. Efficacy on symptoms of patients with BPH or polyphenols such as quercetin, capsiate and curcumin have been demonstrated by clinical studies. Pelvetia canaliculata is a mixture of natural components able to inhibit several cytokines prostaglandins and leukotrienes synthesis resulting in a potent anti-inflammatory effect. Pollen extracts significantly improve symptoms, pain, and quality of life in patients affected by chronic pelvic pain syndrome and chronic prostatitis. Beta-sitosterol is a steroid to improve urinary symptoms and flow, but is used to reduce the size of the prostate gland.\n",
      "\n",
      "Finally, several plant-based products have been subjected to preclinical, in vitro and in vivo, investigations for their potential pharmacological activity against prostate cancer. Some epidemiological studies on clinical trials evaluated the effects of beverages, extracts or food preparations on the risk of prostate cancer. Some plant species described more intense investigation, such as Camellia sinensis (green or black tea), Solanum lycopersicum (common tomato), Punica granatum (pomegranate), Glycine max (common soybean) and Lilium lusi- bianum (linen).\n",
      "\n",
      "### KEY WORDS\n",
      "Medicinal plant; Prostate; Benign prostatic hyperplasia; Prostate cancer; Antiproliferative effect; 5α-reductase; Serenoa repens; Pygeum; Lycopene; Selenium; Polyphenols; Pollen extract; Beta-sitosterol; Palmitoylethanolamide.\n",
      "\n",
      "Submitted 1 July 2019; Accepted 25 July 2019\n",
      "\n",
      "---\n",
      "\n",
      "*No conflict of interest declared.*\n",
      "--------------------------------------------------\n",
      "page: 2\n",
      "\n",
      "# INTRODUCTION TO NUTRACEUTICAL PRESCRIPTION\n",
      "(Arrigo F.G. Cicero)\n",
      "\n",
      "During the last years, the pharmaceutical innovation in primary care are dramatically less frequent and will be even more rare in the next future. In this context, preclinical and clinical research oriented their interest toward natural compounds efficacy and safety, supporting the development of a new nutraceutical science. The term “nutraceutical” has been created by Stephen De Felice in 1989 from the union of the words “nutrition” and “pharmaceutical”, to include dietary components or (more generically) botanical bioactive compounds with positive effects on well-being and health preservation, but also for the cure of some common health disorders (1). \n",
      "\n",
      "The most part of nutraceuticals has been identified in vegetables (2) such as β-glucans, tocopherols, plant sterols/stanols, polyphenols (anthocyanins, proanthocyanidins, flavonols, stilbens, catechins, epicatechins, curcumins, oleic acid, isovaleric acids, lignans, etc.), whose biological activities are numerous and often well-documented. Much less numerous are the nutraceuticals of animal origin, even if some of them, as the omega 3 polyunsaturated fatty acids are among the most used nutraceuticals around the world (4). \n",
      "\n",
      "There are a large number of medical areas where nutraceuticals are currently used, such as urology and andrology. To help the consumer and the industry to correctly choose the most adequate nutraceuticals, they must be safe and adequately labelled. \n",
      "\n",
      "Then, the European Commission promoted specific rules on the nutritional and healthy properties of dietary supplements that can be disclosed on nutraceuticals boxes (Health Claims) (December 20th, 2006) (5, 6). The European Commission approved health claims are based on the opinions of an external agency, the European Food Safety Authority (EFSA), that should organize meeting of expert panels selected to evaluate and re-evaluate health claims based on the available preclinical and clinical scientific data (7, 8). \n",
      "\n",
      "Currently, the use of dietary supplements and functional foods for the health maintenance and disease prevention is in continuous increase and the number of available products in the market is growing ever more intensively. \n",
      "\n",
      "So, how to navigate (as prescribers, sellers or consumers) among 20-30 products containing similar bioactives, in different combinations, that suggest similar effects but with costs often really different? For some of them we have (almost) complete preclinical and clinical pharmacotoxicological dossiers, till the availability of metaanalysis of randomized clinical trials. However, in the most part of cases, what is known about single bioactives is transferred to the combined marketed products without any kind of test on the final formulation. The main reasons of this are presented in Table 1. \n",
      "\n",
      "In fact, the companies need to market new (at least apparently) “unique” products in a context where the registration and copyright are easily exploited and scarcely protected. The cost of high quality bioactives and the need to create original products often push the industries to add more and more low-dosed components in a single pill/tablet to make the product more complex (“original”) trying to make up eventual synergies, as often demonstrated. Of course, the use of low-dosed bioactives is a warranty of product safety and tolerability to avoid the comparison to pharmacological origins of natural origin, however it reduces the probability to observe a clinical effect. Thus, how to recognize a serious product? \n",
      "\n",
      "As regards monocomponent products, it is relatively easy. The proposed nutraceuticals should have an adequate bibliography support that should include (at least):\n",
      "\n",
      "- The description of the mechanism of action, eventually associated with notes on pharmacokinetics (for instance, resveratrol has an oral bioavailability near to zero, being the supplement often doubted for its efficacy).\n",
      "- A therapeutic indication supported by randomized, double-blind, placebo-controlled clinical trials carried out on subjects similar to the ones we need to treat in regard to age, ethnicity, and disease profile.\n",
      "- Quality (toxic irritation) and dosage similar to the ones on the bioefficacious and safe in clinical trial. \n",
      "\n",
      "As regards nutraceuticals in combination, the requirements are similar if the single components are supported by scientific evidence of efficacy and safety, and if they are included in the same pill/tablet at the tested doses. If a kind of synergy component is suggested, this has to be clearly demonstrated with specific trials or, alternatively, it should be never mentioned. Of course, the risk of interaction between the components of a combined nutraceutical should also be considered (9). When the informative brochure of the product is complete and correct, this will help the prescriber to adequately select the more adequate product in the market, being also more protected from a legal point of view (10). \n",
      "\n",
      "We have to remember that the final responsibility of the prescriber remains in the knowledge of the effective dosages of the bioactives (based on the results of adequately designed clinical trials or their meta-analysis), of possible pharmacological interactions and adverse events, and of the adequate length of treatment (in particular, avoiding short cyclic treatment for chronic diseases).\n",
      "\n",
      "# Table 1\n",
      "Factors limiting the application of available scientific data to the combinations of nutraceutical products available in the market.\n",
      "\n",
      "| Factor                                                                 | Description                                                                 |\n",
      "|------------------------------------------------------------------------|-----------------------------------------------------------------------------|\n",
      "| No legal need to prove efficacy                                          |                                                                             |\n",
      "| No legal possibility to declare efficacy (lack of approved health claim)|                                                                             |\n",
      "| Incomplete pharma-toxicological dossiers                                 |                                                                             |\n",
      "| Cost of high quality bioactives and/or pharmaceutical technologies used | of the most bioavailable (for instance Coenzyme Q10, Resveratrol, lycopene)|\n",
      "| Industry need to differentiate their product from the other ones        |                                                                             |\n",
      "| Need to produce absolutely safe products (often limiting the dosage under the efficacy level) |                                                                             |\n",
      "\n",
      "# PRECLINICAL STUDIES ON MEDICINAL PLANTS, \n",
      "# USED IN THE TREATMENT OF PROSTATIC DISEASES\n",
      "(Annaletta Vitalone, Olli Allkanjari)\n",
      "\n",
      "Phytotherapy could be useful in the treatment and pre-\n",
      "--------------------------------------------------\n"
     ]
    }
   ],
   "source": [
    "# Display the first 2 documents\n",
    "display_result = await w.run(num_docs=2)\n",
    "for doc in display_result:\n",
    "    print(doc['content'])\n",
    "    print(\"-\" * 50)"
   ]
  },
  {
   "cell_type": "code",
   "execution_count": null,
   "metadata": {},
   "outputs": [],
   "source": []
  }
 ],
 "metadata": {
  "kernelspec": {
   "display_name": "latest_llama",
   "language": "python",
   "name": "python3"
  },
  "language_info": {
   "codemirror_mode": {
    "name": "ipython",
    "version": 3
   },
   "file_extension": ".py",
   "mimetype": "text/x-python",
   "name": "python",
   "nbconvert_exporter": "python",
   "pygments_lexer": "ipython3",
   "version": "3.11.9"
  }
 },
 "nbformat": 4,
 "nbformat_minor": 2
}
